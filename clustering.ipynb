{
 "cells": [
  {
   "cell_type": "code",
   "execution_count": 2,
   "id": "4721d8b4",
   "metadata": {},
   "outputs": [],
   "source": [
    "import pandas as pd\n",
    "df = pd.read_csv('cleaned_responses.csv')"
   ]
  },
  {
   "cell_type": "code",
   "execution_count": 4,
   "id": "9d864073",
   "metadata": {},
   "outputs": [
    {
     "name": "stdout",
     "output_type": "stream",
     "text": [
      "{'broadway': 6, 'pop rap': 47, 'dance pop': 157, 'singer-songwriter': 1, 'lo-fi': 2, 'traprun': 1, 'alternative r&b': 27, 'pop latino': 1, 'underground hip hop': 5, 'korean r&b': 6, 'underground hip hop ': 2, 'anime': 8, 'indie pop': 84, 'indie rock': 34, 'new wave ': 1, 'alternative rock': 9, 'indie garage rock': 6, 'art pop': 8, 'c-pop': 13, 'k-pop': 49, 'classic rock': 35, 'emo': 12, 'afrobeat': 5, 'video game music': 11, 'pop': 6, 'detroit rap': 1, 'rabindra sangeet': 1, 'brazilian popular music (mpb)': 1, 'neo-psychedelic': 2, 'metalcore': 3, 'electropop': 32, 'j-pop': 14, 'kanye west': 1, 'soundtrack': 14, 'weirdcore': 5, 'reggaeton': 22, 'glitchcore': 2, 'bubblegrunge': 1, 'post rock': 1, 'classical piano': 2, 'indiepop': 1, 'bass house': 1, 'lo-fi beats': 14, 'worship': 4, 'dream pop': 7, 'atl hip hop': 4, 'indie': 1, 'hip hop': 9, 'shoegaze': 5, 'house': 3, 'kpop': 1, 'punk': 4, 'hip-hop/rap': 1, 'ambient': 5, 'doom metal': 1, 'melodic rap': 18, 'christian pop': 2, 'art rock': 8, 'dream smp': 3, 'post-teen pop': 3, 'rap': 11, 'future bass': 3, 'afrobeats': 3, 'contemporary country': 9, 'pop dance': 1, 'chill r&b': 18, 'show tunes': 11, 'r&b': 16, 'psychedelic rock': 2, 'trap': 3, 'latin alternative': 2, 'new wave': 4, 'pop rock': 22, 'rock': 6, 'pop punk': 8, 'desi pop': 6, 'alternative hip hop': 12, 'mandopop': 3, 'uk hip hop': 1, 'vaporwave': 2, 'modern rock': 30, 'neo soul': 15, 'corrido': 1, 'edm': 2, 'emo rap': 3, 'modern alternative rock': 7, 'deep house': 1, 'undergroup hip hop': 1, 'eurovision': 1, 'modern bollywood': 6, 'bedroom pop': 17, 'indie poptimism': 7, 'korean indie rock': 1, 'uk alternative pop': 1, 'anti foll': 1, 'neo mellow': 4, 'baroque ': 1, 'glee club': 1, 'hip-hop': 2, 'dance pop ': 1, 'pop rwp': 1, 'the weeknd': 1, 'swing': 1, 'korean ost': 3, 'trova': 1, 'pop-rap': 1, 'post punk': 1, 'indie folk': 10, 'classical': 4, 'nightcore': 2, 'grime': 1, 'post-punk': 2, 'death metal': 1, 'r&b/soul': 1, \"video game music [this shouldn't have been this high up :(( ]\": 1, 'small room': 1, 'k-rap': 3, 'chillhop': 4, 'bossa nova': 1, 'compositional ambient': 1, 'sludge metal': 1, 'filmi': 1, 'country road': 3, 'latin pop': 6, 'chicago rap': 10, 'banda': 1, 'jazz rap': 1, 'k-pop boy group': 2, 'sad lo-fi': 1, 'metropopolis': 5, 'rock en espanol': 1, 'pop edm': 1, 'vocaloid': 1, 'electronica': 4, 'epicore': 1, 'permanent wave': 2, 'italian pop': 2, 'dfw rap': 1, 'trap queen': 3, 'melodic dubstep': 5, 'salsa': 2, 'indiecoustica': 3, 'french pop': 3, 'pop urbaine': 1, 'otacore': 3, 'japanese math rock': 1, 'alternative': 3, 'opera ': 1, 'sufi': 2, 'a cappella': 2, 'contemporary r&b': 1, 'drill': 1, 'east coast hip jop': 1, 'math rock': 1, 'mac miller': 1, 'lofi beats': 1, 'disco': 2, 'trap latino': 1, 'pop-urbain': 1, 'modernrock': 1, 'chill hop': 2, 'alt hip hop': 1, 'futurebass': 1, 'grunge': 2, 'afro': 1, 'abstract hip hop': 2, 'soft rock': 3, 'progressive house': 3, 'sad rap': 4, 'slowed and reverb': 1, 'uk pop': 10, 'boy band': 3, 'detroit hip hop': 1, 'pop soul': 2, 'bachata': 1, 'j-poprock': 1, 'kollywood': 1, 'brooklyn drill': 1, 'country rock': 1, 'metal': 1, 'urban contemporary': 1, 'synthpop': 1, 'vocal jazz': 1, 'french hip hop': 1, 'vapor soul': 2, 'german hip hop': 2, 'hollywood': 1, 'bolero': 2, 'latin': 1, 'social media pop': 2, 'progressive rock': 2, 'trance': 1, 'indonesian pop': 1, 'lo-fi chill': 2, 'beatlesque': 1, 'hyperpop': 5, 'alternativa latina': 1, 'conscious hip hop': 2, 'meme rap': 1, 'comedy': 1, 'indie soul': 3, 'hopebeat': 1, 'city pop': 1, 'metropolisis': 1, 'japanese soundtrack': 1, 'neo classical': 1, 'reggae': 1, 'classical performance': 1, 'tollywood': 1, 'nu disco': 1, 'contemporary country ': 1, 'tyler, the creator': 1, 'folk punk': 1, 'pop melodique': 1, 'early romantic era': 1, 'celtic': 1, 'classic': 1, 'country': 1, 'bebop': 1, 'noise rock': 2, 'showtunes': 1, 'christian indie': 1, 'christian hip hop': 2, 'synthwave': 2, 'trap soul': 1, 'latin rock': 2, 'aesthetic rap': 1, 'outlaw country': 1, 'new jersey indie': 1, 'funk metal': 1, 'modern country rock': 2, 'atl trap': 1, 'progressive metal': 1, 'canadian pop': 4, 'russian post-punk': 1, 'mexican pop': 1, 'christian alternative rock': 1, 'cpop (chinese pop)': 1, 'german pop': 2, 'mexican hip hop': 1, 'vapor twitch': 1, 'alternative metal': 2, 'late romantic era': 1, 'russian pop': 2, 'modern indie pop': 1, 'chicago wrap ': 1, 'modern rock ': 1, 'escape room': 1, 'korean instrumental': 1, 'tropical house': 2, 'bedroom soul': 1, 'afropop': 1, 'amapiano': 1, 'jazz': 1, 'russian folk': 1, 'garage rock': 1, 'post teen pop': 1, 'lofi': 1, 'southern hip-hop': 1, 'video games': 1, 'florida rap': 1, 'soul': 2, 'indie electropop': 1, 'travis scott': 1, 'indie poptism': 1, 'steampunk': 1, 'hip-hop french': 1, 'expiremential': 1, 'colombian pop': 1, 'string quartet': 1, 'drama osts': 1, 'desert blues': 1, 'dutch pop': 1, '.': 1, 'electric': 1, 'canadian hip hop': 2, 'folk rock': 2, 'gospel': 1, 'brass band': 1, 'stomp and holler': 2, 'spanish pop': 1, 'blues rock': 2, 'folk': 1, 'west end': 1, 'gangster rap': 1, 'japanese psychedelic': 1, 'pop r&b': 1, 'acoustic pop': 1, 'dark trap': 1, 'eurodance': 1, 'afrofuturism': 1, 'k-pop girl group': 1, 'anime score': 1, 'motown': 1}\n",
      "164 lone genres out of 294\n"
     ]
    }
   ],
   "source": [
    "genre_counts = {}\n",
    "genre_cols = ['genre_1', 'genre_2', 'genre_3', 'genre_4', 'genre_5',]\n",
    "for col in genre_cols:\n",
    "    for row in df[col]:\n",
    "        genre_counts[row] = genre_counts.get(row, 0) + 1\n",
    "\n",
    "print(genre_counts)\n",
    "\n",
    "lone_genres = set()\n",
    "for key, value in genre_counts.items():\n",
    "    if value == 1:\n",
    "        lone_genres.add(key)\n",
    "        \n",
    "print(str(len(lone_genres)) + \" lone genres out of \" + str(len(genre_counts)))\n"
   ]
  },
  {
   "cell_type": "code",
   "execution_count": 6,
   "id": "a8d9e4b5",
   "metadata": {},
   "outputs": [
    {
     "name": "stdout",
     "output_type": "stream",
     "text": [
      "scherea@mit.edu\n",
      "favoured@mit.edu\n",
      "mimisuar@mit.edu\n",
      "j_luera@mit.edu\n"
     ]
    }
   ],
   "source": [
    "threshold = 5\n",
    "less_than = 0 # holds number of people with all genres of less than the threshold amount\n",
    "num_rows = 0 \n",
    "\n",
    "for index, row in df.iterrows():\n",
    "    num_rows += 1\n",
    "    if sum([genre_counts[row[genre_col]] < threshold for genre_col in genre_cols]) == 5:\n",
    "        less_than += 1\n",
    "        print(row[\"Email\"])\n",
    "        "
   ]
  },
  {
   "cell_type": "code",
   "execution_count": null,
   "id": "e232317e",
   "metadata": {},
   "outputs": [],
   "source": []
  }
 ],
 "metadata": {
  "kernelspec": {
   "display_name": "Python 3 (ipykernel)",
   "language": "python",
   "name": "python3"
  },
  "language_info": {
   "codemirror_mode": {
    "name": "ipython",
    "version": 3
   },
   "file_extension": ".py",
   "mimetype": "text/x-python",
   "name": "python",
   "nbconvert_exporter": "python",
   "pygments_lexer": "ipython3",
   "version": "3.9.1"
  }
 },
 "nbformat": 4,
 "nbformat_minor": 5
}
