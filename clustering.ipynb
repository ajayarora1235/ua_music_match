{
 "cells": [
  {
   "cell_type": "code",
   "execution_count": 1,
   "id": "3c810776",
   "metadata": {},
   "outputs": [
    {
     "name": "stdout",
     "output_type": "stream",
     "text": [
      "Index(['Unnamed: 0', 'first_name', 'last_name', 'Email', 'class_year',\n",
      "       'genre_1', 'genre_1_other', 'genre_2', 'genre_2_other', 'genre_3',\n",
      "       'genre_3_other', 'genre_4', 'genre_4_other', 'genre_5', 'genre_5_other',\n",
      "       'num_genres', 'songs_1', 'songs_2', 'songs_3', 'songs_4', 'songs_5',\n",
      "       'artist_1', 'artist_1_other', 'artist_1_min', 'artist_2',\n",
      "       'artist_2_other', 'artist_3', 'artist_3_other', 'artist_4',\n",
      "       'artist_4_other', 'artist_5', 'artist_5_other', 'min_total',\n",
      "       'top_song_plays', 'aura_1', 'aura_2'],\n",
      "      dtype='object')\n"
     ]
    }
   ],
   "source": [
    "import pandas as pd\n",
    "df = pd.read_csv('cleaned_responses.csv')\n",
    "print(df.columns)"
   ]
  },
  {
   "cell_type": "code",
   "execution_count": 2,
   "id": "592bb7eb",
   "metadata": {},
   "outputs": [],
   "source": [
    "import numpy as np\n",
    "from scipy.sparse import csr_matrix"
   ]
  },
  {
   "cell_type": "code",
   "execution_count": 3,
   "id": "2b586a67",
   "metadata": {
    "scrolled": true
   },
   "outputs": [
    {
     "name": "stdout",
     "output_type": "stream",
     "text": [
      "{'singer-songwriter': 1, 'traprun': 1, 'pop latino': 1, 'new wave ': 1, 'detroit rap': 1, 'rabindra sangeet': 1, 'brazilian popular music (mpb)': 1, 'kanye west': 1, 'bubblegrunge': 1, 'post rock': 1, 'indiepop': 1, 'bass house': 1, 'indie': 1, 'kpop': 1, 'hip-hop/rap': 1, 'doom metal': 1, 'pop dance': 1, 'uk hip hop': 1, 'corrido': 1, 'deep house': 1, 'undergroup hip hop': 1, 'eurovision': 1, 'korean indie rock': 1, 'uk alternative pop': 1, 'anti foll': 1, 'baroque ': 1, 'glee club': 1, 'dance pop ': 1, 'pop rwp': 1, 'the weeknd': 1, 'swing': 1, 'trova': 1, 'pop-rap': 1, 'post punk': 1, 'grime': 1, 'death metal': 1, 'r&b/soul': 1, \"video game music [this shouldn't have been this high up :(( ]\": 1, 'small room': 1, 'bossa nova': 1, 'compositional ambient': 1, 'sludge metal': 1, 'filmi': 1, 'banda': 1, 'jazz rap': 1, 'sad lo-fi': 1, 'rock en espanol': 1, 'pop edm': 1, 'vocaloid': 1, 'epicore': 1, 'dfw rap': 1, 'pop urbaine': 1, 'japanese math rock': 1, 'opera ': 1, 'contemporary r&b': 1, 'drill': 1, 'east coast hip jop': 1, 'math rock': 1, 'mac miller': 1, 'lofi beats': 1, 'trap latino': 1, 'pop-urbain': 1, 'modernrock': 1, 'alt hip hop': 1, 'futurebass': 1, 'afro': 1, 'slowed and reverb': 1, 'detroit hip hop': 1, 'bachata': 1, 'j-poprock': 1, 'kollywood': 1, 'brooklyn drill': 1, 'country rock': 1, 'metal': 1, 'urban contemporary': 1, 'synthpop': 1, 'vocal jazz': 1, 'french hip hop': 1, 'hollywood': 1, 'latin': 1, 'trance': 1, 'indonesian pop': 1, 'beatlesque': 1, 'alternativa latina': 1, 'meme rap': 1, 'comedy': 1, 'hopebeat': 1, 'city pop': 1, 'metropolisis': 1, 'japanese soundtrack': 1, 'neo classical': 1, 'reggae': 1, 'classical performance': 1, 'tollywood': 1, 'nu disco': 1, 'contemporary country ': 1, 'tyler, the creator': 1, 'folk punk': 1, 'pop melodique': 1, 'early romantic era': 1, 'celtic': 1, 'classic': 1, 'country': 1, 'bebop': 1, 'showtunes': 1, 'christian indie': 1, 'trap soul': 1, 'aesthetic rap': 1, 'outlaw country': 1, 'new jersey indie': 1, 'funk metal': 1, 'atl trap': 1, 'progressive metal': 1, 'russian post-punk': 1, 'mexican pop': 1, 'christian alternative rock': 1, 'cpop (chinese pop)': 1, 'mexican hip hop': 1, 'vapor twitch': 1, 'late romantic era': 1, 'modern indie pop': 1, 'chicago wrap ': 1, 'modern rock ': 1, 'escape room': 1, 'korean instrumental': 1, 'bedroom soul': 1, 'afropop': 1, 'amapiano': 1, 'jazz': 1, 'russian folk': 1, 'garage rock': 1, 'post teen pop': 1, 'lofi': 1, 'southern hip-hop': 1, 'video games': 1, 'florida rap': 1, 'indie electropop': 1, 'travis scott': 1, 'indie poptism': 1, 'steampunk': 1, 'hip-hop french': 1, 'expiremential': 1, 'colombian pop': 1, 'string quartet': 1, 'drama osts': 1, 'desert blues': 1, 'dutch pop': 1, '.': 1, 'electric': 1, 'gospel': 1, 'brass band': 1, 'spanish pop': 1, 'folk': 1, 'west end': 1, 'gangster rap': 1, 'japanese psychedelic': 1, 'pop r&b': 1, 'acoustic pop': 1, 'dark trap': 1, 'eurodance': 1, 'afrofuturism': 1, 'k-pop girl group': 1, 'anime score': 1, 'motown': 1, 'lo-fi': 2, 'underground hip hop ': 2, 'neo-psychedelic': 2, 'glitchcore': 2, 'classical piano': 2, 'christian pop': 2, 'psychedelic rock': 2, 'latin alternative': 2, 'vaporwave': 2, 'edm': 2, 'hip-hop': 2, 'nightcore': 2, 'post-punk': 2, 'k-pop boy group': 2, 'permanent wave': 2, 'italian pop': 2, 'salsa': 2, 'sufi': 2, 'a cappella': 2, 'disco': 2, 'chill hop': 2, 'grunge': 2, 'abstract hip hop': 2, 'pop soul': 2, 'vapor soul': 2, 'german hip hop': 2, 'bolero': 2, 'social media pop': 2, 'progressive rock': 2, 'lo-fi chill': 2, 'conscious hip hop': 2, 'noise rock': 2, 'christian hip hop': 2, 'synthwave': 2, 'latin rock': 2, 'modern country rock': 2, 'german pop': 2, 'alternative metal': 2, 'russian pop': 2, 'tropical house': 2, 'soul': 2, 'canadian hip hop': 2, 'folk rock': 2, 'stomp and holler': 2, 'blues rock': 2, 'metalcore': 3, 'house': 3, 'dream smp': 3, 'post-teen pop': 3, 'future bass': 3, 'afrobeats': 3, 'trap': 3, 'mandopop': 3, 'emo rap': 3, 'korean ost': 3, 'k-rap': 3, 'country road': 3, 'trap queen': 3, 'indiecoustica': 3, 'french pop': 3, 'otacore': 3, 'alternative': 3, 'soft rock': 3, 'progressive house': 3, 'boy band': 3, 'indie soul': 3, 'worship': 4, 'atl hip hop': 4, 'punk': 4, 'new wave': 4, 'neo mellow': 4, 'classical': 4, 'chillhop': 4, 'electronica': 4, 'sad rap': 4, 'canadian pop': 4, 'underground hip hop': 5, 'afrobeat': 5, 'weirdcore': 5, 'shoegaze': 5, 'ambient': 5, 'metropopolis': 5, 'melodic dubstep': 5, 'hyperpop': 5, 'broadway': 6, 'korean r&b': 6, 'indie garage rock': 6, 'pop': 6, 'rock': 6, 'desi pop': 6, 'modern bollywood': 6, 'latin pop': 6, 'dream pop': 7, 'modern alternative rock': 7, 'indie poptimism': 7, 'anime': 8, 'art pop': 8, 'art rock': 8, 'pop punk': 8, 'alternative rock': 9, 'hip hop': 9, 'contemporary country': 9, 'indie folk': 10, 'chicago rap': 10, 'uk pop': 10, 'video game music': 11, 'rap': 11, 'show tunes': 11, 'emo': 12, 'alternative hip hop': 12, 'c-pop': 13, 'j-pop': 14, 'soundtrack': 14, 'lo-fi beats': 14, 'neo soul': 15, 'r&b': 16, 'bedroom pop': 17, 'melodic rap': 18, 'chill r&b': 18, 'reggaeton': 22, 'pop rock': 22, 'alternative r&b': 27, 'modern rock': 30, 'electropop': 32, 'indie rock': 34, 'classic rock': 35, 'pop rap': 47, 'k-pop': 49, 'indie pop': 84, 'dance pop': 157}\n",
      "164 lone genres out of 294\n"
     ]
    }
   ],
   "source": [
    "genre_counts = {}\n",
    "genre_cols = ['genre_1', 'genre_2', 'genre_3', 'genre_4', 'genre_5',]\n",
    "for col in genre_cols:\n",
    "    for row in df[col]:\n",
    "        genre_counts[row] = genre_counts.get(row, 0) + 1\n",
    "\n",
    "#print(genre_counts)\n",
    "\n",
    "print({k: v for k, v in sorted(genre_counts.items(), key=lambda item: item[1])})\n",
    "\n",
    "lone_genres = set()\n",
    "for key, value in genre_counts.items():\n",
    "    if value == 1:\n",
    "        lone_genres.add(key)\n",
    "        \n",
    "print(str(len(lone_genres)) + \" lone genres out of \" + str(len(genre_counts)))\n"
   ]
  },
  {
   "cell_type": "code",
   "execution_count": 6,
   "id": "1aab27b7",
   "metadata": {},
   "outputs": [
    {
     "name": "stdout",
     "output_type": "stream",
     "text": [
      "scherea@mit.edu\n",
      "favoured@mit.edu\n",
      "mimisuar@mit.edu\n",
      "j_luera@mit.edu\n"
     ]
    }
   ],
   "source": [
    "threshold = 5\n",
    "less_than = 0 # holds number of people with all genres of less than the threshold amount\n",
    "num_rows = 0 \n",
    "\n",
    "for index, row in df.iterrows():\n",
    "    num_rows += 1\n",
    "    if sum([genre_counts[row[genre_col]] < threshold for genre_col in genre_cols]) == 5:\n",
    "        less_than += 1\n",
    "        print(row[\"Email\"])\n",
    "        "
   ]
  },
  {
   "cell_type": "code",
   "execution_count": 23,
   "id": "3495c231",
   "metadata": {
    "scrolled": true
   },
   "outputs": [
    {
     "name": "stdout",
     "output_type": "stream",
     "text": [
      "{('dance pop', 'indie pop'): 18, ('indie pop', 'dance pop'): 18, ('dance pop', 'k-pop'): 12, ('k-pop', 'dance pop'): 12, ('dance pop', 'pop rap'): 11, ('pop rap', 'dance pop'): 11, ('c-pop', 'k-pop'): 6, ('k-pop', 'c-pop'): 6, ('pop rap', 'melodic rap'): 5, ('melodic rap', 'pop rap'): 5, ('dance pop', 'show tunes'): 4, ('show tunes', 'dance pop'): 4, ('dance pop', 'alternative r&b'): 4, ('alternative r&b', 'dance pop'): 4, ('alternative r&b', 'indie pop'): 3, ('indie pop', 'alternative r&b'): 3, ('indie pop', 'electropop'): 3, ('electropop', 'indie pop'): 3, ('dance pop', 'indie rock'): 3, ('indie rock', 'dance pop'): 3, ('dance pop', 'reggaeton'): 3, ('reggaeton', 'dance pop'): 3, ('dance pop', 'chill r&b'): 3, ('chill r&b', 'dance pop'): 3, ('dance pop', 'electropop'): 3, ('electropop', 'dance pop'): 3, ('lo-fi beats', 'indie pop'): 3, ('indie pop', 'lo-fi beats'): 3, ('contemporary country', 'dance pop'): 3, ('dance pop', 'contemporary country'): 3, ('dance pop', 'modern bollywood'): 2, ('modern bollywood', 'dance pop'): 2, ('dance pop', 'j-pop'): 2, ('j-pop', 'dance pop'): 2, ('indie rock', 'alternative rock'): 2, ('alternative rock', 'indie rock'): 2, ('dance pop', 'indie poptimism'): 2, ('indie poptimism', 'dance pop'): 2, ('alternative r&b', 'neo soul'): 2, ('neo soul', 'alternative r&b'): 2, ('classic rock', 'dance pop'): 2, ('dance pop', 'classic rock'): 2, ('emo', 'broadway'): 2, ('broadway', 'emo'): 2, ('video game music', 'alternative hip hop'): 2, ('alternative hip hop', 'video game music'): 2, ('metalcore', 'dance pop'): 2, ('dance pop', 'metalcore'): 2, ('dance pop', 'lo-fi beats'): 2, ('lo-fi beats', 'dance pop'): 2, ('classic rock', 'classic rock'): 2, ('indie rock', 'dream pop'): 2, ('dream pop', 'indie rock'): 2, ('emo', 'indie pop'): 2, ('indie pop', 'emo'): 2, ('christian pop', 'worship'): 2, ('worship', 'christian pop'): 2, ('indie pop', 'indie rock'): 2, ('indie rock', 'indie pop'): 2, ('dance pop', 'chillhop'): 2, ('chillhop', 'dance pop'): 2, ('future bass', 'dance pop'): 2, ('dance pop', 'future bass'): 2, ('dance pop', 'rap'): 2, ('rap', 'dance pop'): 2, ('c-pop', 'dance pop'): 2, ('dance pop', 'c-pop'): 2, ('indie pop', 'modern rock'): 2, ('modern rock', 'indie pop'): 2, ('broadway', 'indie pop'): 1, ('indie pop', 'broadway'): 1, ('pop rap', 'undergroup hip hop'): 1, ('undergroup hip hop', 'pop rap'): 1, ('singer-songwriter', 'punk'): 1, ('punk', 'singer-songwriter'): 1, ('lo-fi', 'electropop'): 1, ('electropop', 'lo-fi'): 1, ('traprun', 'k-pop'): 1, ('k-pop', 'traprun'): 1, ('dance pop', 'eurovision'): 1, ('eurovision', 'dance pop'): 1, ('pop latino', 'dance pop'): 1, ('dance pop', 'pop latino'): 1, ('underground hip hop', 'pop rap'): 1, ('pop rap', 'underground hip hop'): 1, ('korean r&b', 'j-pop'): 1, ('j-pop', 'korean r&b'): 1, ('underground hip hop ', 'reggaeton'): 1, ('reggaeton', 'underground hip hop '): 1, ('anime', 'video game music'): 1, ('video game music', 'anime'): 1, ('indie pop', 'bedroom pop'): 1, ('bedroom pop', 'indie pop'): 1, ('new wave ', 'classic rock'): 1, ('classic rock', 'new wave '): 1, ('indie garage rock', 'alternative hip hop'): 1, ('alternative hip hop', 'indie garage rock'): 1, ('art pop', 'alternative hip hop'): 1, ('alternative hip hop', 'art pop'): 1, ('k-pop', 'korean indie rock'): 1, ('korean indie rock', 'k-pop'): 1, ('indie rock', 'classic rock'): 1, ('classic rock', 'indie rock'): 1, ('dance pop', 'neo soul'): 1, ('neo soul', 'dance pop'): 1, ('afrobeat', 'dance pop'): 1, ('dance pop', 'afrobeat'): 1, ('dance pop', 'uk alternative pop'): 1, ('uk alternative pop', 'dance pop'): 1, ('indie pop', 'anti foll'): 1, ('anti foll', 'indie pop'): 1, ('alternative r&b', 'afrobeat'): 1, ('afrobeat', 'alternative r&b'): 1, ('pop', 'rock'): 1, ('rock', 'pop'): 1, ('detroit rap', 'dance pop'): 1, ('dance pop', 'detroit rap'): 1, ('indie rock', 'glitchcore'): 1, ('glitchcore', 'indie rock'): 1, ('dance pop', 'neo mellow'): 1, ('neo mellow', 'dance pop'): 1, ('rabindra sangeet', 'modern bollywood'): 1, ('modern bollywood', 'rabindra sangeet'): 1, ('brazilian popular music (mpb)', 'baroque '): 1, ('baroque ', 'brazilian popular music (mpb)'): 1, ('dance pop', 'glee club'): 1, ('glee club', 'dance pop'): 1, ('alternative r&b', 'hip-hop'): 1, ('hip-hop', 'alternative r&b'): 1, ('pop rap', 'dance pop '): 1, ('dance pop ', 'pop rap'): 1, ('neo-psychedelic', 'indie rock'): 1, ('indie rock', 'neo-psychedelic'): 1, ('underground hip hop', 'pop rwp'): 1, ('pop rwp', 'underground hip hop'): 1, ('j-pop', 'video game music'): 1, ('video game music', 'j-pop'): 1, ('kanye west', 'the weeknd'): 1, ('the weeknd', 'kanye west'): 1, ('soundtrack', 'dance pop'): 1, ('dance pop', 'soundtrack'): 1, ('indie pop', 'swing'): 1, ('swing', 'indie pop'): 1, ('k-pop', 'afrobeat'): 1, ('afrobeat', 'k-pop'): 1, ('indie pop', 'modern alternative rock'): 1, ('modern alternative rock', 'indie pop'): 1, ('k-pop', 'korean ost'): 1, ('korean ost', 'k-pop'): 1, ('weirdcore', 'video game music'): 1, ('video game music', 'weirdcore'): 1, ('reggaeton', 'trova'): 1, ('trova', 'reggaeton'): 1, ('glitchcore', 'dance pop'): 1, ('dance pop', 'glitchcore'): 1, ('bubblegrunge', 'indie pop'): 1, ('indie pop', 'bubblegrunge'): 1, ('reggaeton', 'pop-rap'): 1, ('pop-rap', 'reggaeton'): 1, ('post rock', 'post punk'): 1, ('post punk', 'post rock'): 1, ('broadway', 'indie folk'): 1, ('indie folk', 'broadway'): 1, ('classical piano', 'dance pop'): 1, ('dance pop', 'classical piano'): 1, ('indie pop', 'soundtrack'): 1, ('soundtrack', 'indie pop'): 1, ('soundtrack', 'modern bollywood'): 1, ('modern bollywood', 'soundtrack'): 1, ('indiepop', 'soundtrack'): 1, ('soundtrack', 'indiepop'): 1, ('bass house', 'house'): 1, ('house', 'bass house'): 1, ('dance pop', 'classical'): 1, ('classical', 'dance pop'): 1, ('worship', 'dance pop'): 1, ('dance pop', 'worship'): 1, ('dream pop', 'ambient'): 1, ('ambient', 'dream pop'): 1, ('dance pop', 'nightcore'): 1, ('nightcore', 'dance pop'): 1, ('atl hip hop', 'dance pop'): 1, ('dance pop', 'atl hip hop'): 1, ('indie', 'pop'): 1, ('pop', 'indie'): 1, ('hip hop', 'pop'): 1, ('pop', 'hip hop'): 1, ('pop rap', 'grime'): 1, ('grime', 'pop rap'): 1, ('shoegaze', 'post-punk'): 1, ('post-punk', 'shoegaze'): 1, ('house', 'hip-hop'): 1, ('hip-hop', 'house'): 1, ('kpop', 'dance pop'): 1, ('dance pop', 'kpop'): 1, ('punk', 'death metal'): 1, ('death metal', 'punk'): 1, ('hip-hop/rap', 'r&b/soul'): 1, ('r&b/soul', 'hip-hop/rap'): 1, ('ambient', 'classic rock'): 1, ('classic rock', 'ambient'): 1, ('doom metal', 'shoegaze'): 1, ('shoegaze', 'doom metal'): 1, ('melodic rap', 'dance pop'): 1, ('dance pop', 'melodic rap'): 1, ('shoegaze', 'indie rock'): 1, ('indie rock', 'shoegaze'): 1, ('art rock', \"video game music [this shouldn't have been this high up :(( ]\"): 1, (\"video game music [this shouldn't have been this high up :(( ]\", 'art rock'): 1, ('dream smp', 'small room'): 1, ('small room', 'dream smp'): 1, ('post-teen pop', 'contemporary country'): 1, ('contemporary country', 'post-teen pop'): 1, ('k-pop', 'k-rap'): 1, ('k-rap', 'k-pop'): 1, ('rap', 'r&b'): 1, ('r&b', 'rap'): 1, ('classic rock', 'pop punk'): 1, ('pop punk', 'classic rock'): 1, ('afrobeats', 'dance pop'): 1, ('dance pop', 'afrobeats'): 1, ('pop rap', 'rap'): 1, ('rap', 'pop rap'): 1, ('pop dance', 'alternative r&b'): 1, ('alternative r&b', 'pop dance'): 1, ('dance pop', 'bossa nova'): 1, ('bossa nova', 'dance pop'): 1, ('chill r&b', 'r&b'): 1, ('r&b', 'chill r&b'): 1, ('soundtrack', 'compositional ambient'): 1, ('compositional ambient', 'soundtrack'): 1, ('indie pop', 'pop rap'): 1, ('pop rap', 'indie pop'): 1, ('r&b', 'k-pop'): 1, ('k-pop', 'r&b'): 1, ('psychedelic rock', 'sludge metal'): 1, ('sludge metal', 'psychedelic rock'): 1, ('anime', 'j-pop'): 1, ('j-pop', 'anime'): 1, ('dance pop', 'filmi'): 1, ('filmi', 'dance pop'): 1, ('k-pop', 'anime'): 1, ('anime', 'k-pop'): 1, ('contemporary country', 'country road'): 1, ('country road', 'contemporary country'): 1, ('atl hip hop', 'melodic rap'): 1, ('melodic rap', 'atl hip hop'): 1, ('art rock', 'indie rock'): 1, ('indie rock', 'art rock'): 1, ('trap', 'r&b'): 1, ('r&b', 'trap'): 1, ('latin alternative', 'post-teen pop'): 1, ('post-teen pop', 'latin alternative'): 1, ('shoegaze', 'art rock'): 1, ('art rock', 'shoegaze'): 1, ('dance pop', 'pop rock'): 1, ('pop rock', 'dance pop'): 1, ('dance pop', 'anime'): 1, ('anime', 'dance pop'): 1, ('new wave', 'classic rock'): 1, ('classic rock', 'new wave'): 1, ('dance pop', 'modern rock'): 1, ('modern rock', 'dance pop'): 1, ('pop rock', 'anime'): 1, ('anime', 'pop rock'): 1, ('k-pop', 'indie pop'): 1, ('indie pop', 'k-pop'): 1, ('dance pop', 'pop punk'): 1, ('pop punk', 'dance pop'): 1, ('rock', 'classical'): 1, ('classical', 'rock'): 1, ('latin alternative', 'latin pop'): 1, ('latin pop', 'latin alternative'): 1, ('dance pop', 'chicago rap'): 1, ('chicago rap', 'dance pop'): 1, ('dance pop', 'banda'): 1, ('banda', 'dance pop'): 1, ('indie rock', 'jazz rap'): 1, ('jazz rap', 'indie rock'): 1, ('show tunes', 'soundtrack'): 1, ('soundtrack', 'show tunes'): 1, ('pop punk', 'pop rock'): 1, ('pop rock', 'pop punk'): 1, ('indie pop', 'weirdcore'): 1, ('weirdcore', 'indie pop'): 1, ('desi pop', 'dance pop'): 1, ('dance pop', 'desi pop'): 1, ('alternative hip hop', 'j-pop'): 1, ('j-pop', 'alternative hip hop'): 1, ('k-pop', 'k-pop boy group'): 1, ('k-pop boy group', 'k-pop'): 1, ('mandopop', 'r&b'): 1, ('r&b', 'mandopop'): 1, ('r&b', 'sad lo-fi'): 1, ('sad lo-fi', 'r&b'): 1, ('uk hip hop', 'alternative r&b'): 1, ('alternative r&b', 'uk hip hop'): 1, ('classic rock', 'pop rap'): 1, ('pop rap', 'classic rock'): 1, ('vaporwave', 'indie rock'): 1, ('indie rock', 'vaporwave'): 1, ('modern rock', 'metropopolis'): 1, ('metropopolis', 'modern rock'): 1, ('neo soul', 'indie pop'): 1, ('indie pop', 'neo soul'): 1, ('reggaeton', 'latin pop'): 1, ('latin pop', 'reggaeton'): 1, ('dance pop', 'rock'): 1, ('rock', 'dance pop'): 1, ('corrido', 'rock en espanol'): 1, ('rock en espanol', 'corrido'): 1, ('edm', 'pop edm'): 1, ('pop edm', 'edm'): 1, ('hip hop', 'r&b'): 1, ('r&b', 'hip hop'): 1, ('alternative r&b', 'alternative hip hop'): 1, ('alternative hip hop', 'alternative r&b'): 1, ('emo rap', 'reggaeton'): 1, ('reggaeton', 'emo rap'): 1, ('modern alternative rock', 'emo'): 1, ('emo', 'modern alternative rock'): 1, ('j-pop', 'vocaloid'): 1, ('vocaloid', 'j-pop'): 1, ('deep house', 'electronica'): 1, ('electronica', 'deep house'): 1, ('modern alternative rock', 'epicore'): 1, ('epicore', 'modern alternative rock'): 1, ('rap', 'reggaeton'): 1, ('reggaeton', 'rap'): 1, ('modern rock', 'pop rock'): 1, ('pop rock', 'modern rock'): 1, ('lo-fi beats', 'alternative r&b'): 1, ('alternative r&b', 'lo-fi beats'): 1, ('classic rock', 'permanent wave'): 1, ('permanent wave', 'classic rock'): 1, ('indie pop', 'indie garage rock'): 1, ('indie garage rock', 'indie pop'): 1, ('pop rap', 'desi pop'): 1, ('desi pop', 'pop rap'): 1}\n"
     ]
    }
   ],
   "source": [
    "genre_counts = {}\n",
    "genre_cols = ['genre_1', 'genre_2', 'genre_3', 'genre_4', 'genre_5',]\n",
    "\n",
    "for _, row in df.iterrows():\n",
    "    #print(row)\n",
    "    genre_counts[(row[5], row[7])] = genre_counts.get((row[5], row[7]), 0) + 1\n",
    "    genre_counts[(row[7], row[5])] = genre_counts.get((row[7], row[5]), 0) + 1\n",
    "    \n",
    "print({k: v for k, v in sorted(genre_counts.items(), key=lambda item: item[1], reverse=True)})\n"
   ]
  },
  {
   "cell_type": "code",
   "execution_count": 3,
   "id": "38610ffa",
   "metadata": {},
   "outputs": [],
   "source": [
    "spotify_to_ind, ind_to_spotify = {}, {}\n",
    "spotify_genres = pd.unique(df[['genre_1', 'genre_2', 'genre_3', 'genre_4', 'genre_5']].values.ravel('K'))\n",
    "spotify_artists = pd.unique(df[['artist_1', 'artist_2', 'artist_3', 'artist_4', 'artist_5']].values.ravel('K'))\n",
    "spotify_all = list(spotify_genres) + list(spotify_artists)\n",
    "for ind in range(len(spotify_all)):\n",
    "    spotify_to_ind[spotify_all[ind]] = ind"
   ]
  },
  {
   "cell_type": "code",
   "execution_count": 4,
   "id": "cb988340",
   "metadata": {},
   "outputs": [],
   "source": [
    "X_dense = np.zeros((len(df), len(spotify_all)))\n",
    "for index, row in df.iterrows():\n",
    "    for col in ['genre', 'artist']:\n",
    "        for i in range(5):\n",
    "            if col == 'genre':\n",
    "                if row[col + '_' + str(5-i)] is not None:\n",
    "                    X_dense[index, spotify_to_ind[row[col + '_' + str(5-i)]]] = 2**i\n",
    "            else:\n",
    "                if row[col + '_' + str(5-i)] is not None:\n",
    "                    X_dense[index, spotify_to_ind[row[col + '_' + str(5-i)]]] = i+1\n",
    "X = csr_matrix(X_dense)    "
   ]
  },
  {
   "cell_type": "code",
   "execution_count": 5,
   "id": "81427859",
   "metadata": {},
   "outputs": [
    {
     "name": "stdout",
     "output_type": "stream",
     "text": [
      "[[  1.49247071  11.77878608 -10.60749977 ...  -0.06754324   0.20475918\n",
      "    0.04849744]\n",
      " [ 16.18092511  -1.70493883   0.55553218 ...  -0.28340007   0.24286146\n",
      "    0.3215019 ]\n",
      " [  7.80824216   9.98264068  11.30287572 ...   0.14341788  -0.68487853\n",
      "    0.28327491]\n",
      " ...\n",
      " [  9.70015511  -1.3604432   -0.49570168 ...   0.13128416  -0.51489815\n",
      "   -0.25403433]\n",
      " [ 15.47227961  -2.49322679  -2.16156292 ...  -0.38235596   0.05244352\n",
      "   -0.2014211 ]\n",
      " [  9.37740528  -1.97356201  -1.22883968 ...   1.71060682  -0.64358953\n",
      "   -0.45224452]]\n",
      "[19 17 24  3 34 32 38  8  7 10 37 28  8 22 35 30 39 15 15 21 24  5  2 21\n",
      " 23 23 16 12 11  4  7 21  5  1 29 15 24 39 16 11 35 15 11  7 23 36 37 21\n",
      " 11 37  3 34 19 38 10  7  4 10 17 21 17 21 26 28 29  8 24 17 34 35  9 26\n",
      " 15 16  4  2 11  4 30 22 37 29 22 34  1 19 37  1 15 24  9  4 16 12  9  3\n",
      "  5 11 24 10 33 16 32 21 28 38 39 36 14 17 27 11  3 37 29  3 34  5  2 27\n",
      "  6 38 27 32 32 27 34  2 26 33  4  2  2 14 10  1 39 39 13  0  0 13 13 13\n",
      " 31 13 31 31 37 31 31 31  0 13 13 13 31 13 13  6 35  1  5 37 24 17 38 12\n",
      " 16 25 26  7 38 30  6 10 25 29 20 35 19 12 24 17  9 12 15  0 20 12 30 35\n",
      "  8 16 10  4  6 24 30 35 25  6  0 16 21 11 20 33 27  1  1  5  2 12 18 35\n",
      " 18 32 11 36 35 24 33 12 38 33 21  9  0 36 15 37 23 18  2  2  4 38 38 10\n",
      "  1 25  8  1 20 20  7  5 12 21  0 25 18 15  0 26 11 14 35 22 38 34 34 14\n",
      "  1 34 10 23 14  4  7  0  7 22  2 28 17 19  8 34  4  0 28 14  7 18 36  7\n",
      " 28  5 17  6 37 12 15 10 17]\n"
     ]
    }
   ],
   "source": [
    "#make genre artst matrix\n",
    "#loop thru all the rows of df, set top 5 (16, 8, 4, 2, 1)\n",
    "#reduce using SVD\n",
    "from sklearn.decomposition import TruncatedSVD\n",
    "svd = TruncatedSVD(n_components=50, n_iter=7, random_state=42)\n",
    "X_red = svd.fit_transform(X)\n",
    "\n",
    "from k_means_constrained import KMeansConstrained\n",
    "clf = KMeansConstrained(\n",
    "     n_clusters=40,\n",
    "     size_min=5,\n",
    "     size_max=10,\n",
    "     random_state=0\n",
    ")\n",
    "clf.fit_predict(X_red)\n",
    "print(clf.cluster_centers_)\n",
    "print(clf.labels_)\n"
   ]
  },
  {
   "cell_type": "code",
   "execution_count": 6,
   "id": "b84c2c1c",
   "metadata": {},
   "outputs": [],
   "source": [
    "df['cluster'] = clf.labels_"
   ]
  },
  {
   "cell_type": "code",
   "execution_count": 7,
   "id": "260e1239",
   "metadata": {
    "scrolled": false
   },
   "outputs": [
    {
     "name": "stderr",
     "output_type": "stream",
     "text": [
      "/Users/ajayarora/miniconda3/envs/6439/lib/python3.9/site-packages/xlsxwriter/workbook.py:339: UserWarning: Calling close() on already closed file.\n",
      "  warn(\"Calling close() on already closed file.\")\n"
     ]
    }
   ],
   "source": [
    "# Create a Pandas Excel writer using XlsxWriter as the engine.\n",
    "#writer = pd.ExcelWriter('pandas_multiple.xlsx', engine='xlsxwriter')\n",
    "\n",
    "# Close the Pandas Excel writer and output the Excel file.\n",
    "#writer.save()\n",
    "with pd.ExcelWriter('output.xlsx') as writer:\n",
    "    for cluster in range(40):\n",
    "        select_df = df[df['cluster']==cluster]\n",
    "        select_df.to_excel(writer, sheet_name='Sheet'+str(cluster+1))\n",
    "    writer.save()"
   ]
  },
  {
   "cell_type": "code",
   "execution_count": 10,
   "id": "d3c919af",
   "metadata": {
    "scrolled": false
   },
   "outputs": [
    {
     "name": "stdout",
     "output_type": "stream",
     "text": [
      "keverett@mit.edu, lubeso@mit.edu, brendaf@mit.edu, woodcock@mit.edu, anhad@mit.edu, pgovindu@mit.edu, kiranv@mit.edu, zoem@mit.edu, NPReng@mit.edu, gberrey@mit.edu\n",
      "email sent!\n",
      "diegos@mit.edu, dogan@mit.edu, nzechari@mit.edu, oea@mit.edu, alanac@mit.edu, ankaa@mit.edu, lmwilson@mit.edu, smlawren@mit.edu, micosu@mit.edu, wangsj@mit.edu\n",
      "email sent!\n",
      "shreyark@mit.edu, yelysia@mit.edu, michesba@mit.edu, keili@mit.edu, sarahaa@mit.edu, andreags@mit.edu, sogreen@mit.edu, aileenma@mit.edu, ajhdz@mit.edu, jenfox@mit.edu\n",
      "email sent!\n",
      "cmclcas@mit.edu, shinghos@mit.edu, teddys@mit.edu, brendonRT@gmail.com, ssalwan@mit.edu\n",
      "email sent!\n",
      "limich@mit.edu, adeena@mit.edu, gtorpey@mit.edu, claireak@mit.edu, ggardner@mit.edu, hwl@mit.edu, hanuna@mit.edu, jzheng22@mit.edu, amee@mit.edu, gab1108@mit.edu\n",
      "email sent!\n",
      "zgarcia@mit.edu, jayther@mit.edu, isham@mit.edu, seane@mit.edu, emilyjs@mit.edu, slostett@mit.edu, bsheres@mit.edu, alexalex@mit.edu\n",
      "email sent!\n",
      "akshayg@mit.edu, rk2602@mit.edu, liueric@mit.edu, smonel@mit.edu, Aoejile@mit.edu, swang23@mit.edu\n",
      "email sent!\n",
      "kmcpher@mit.edu, elainewu@mit.edu, kristenp@mit.edu, ifyijeli@mit.edu, Hare@mit.edu, dogbe@mit.edu, nityap@MIT.EDU, ariapero@mit.edu, lyneodhi@mit.edu, agodfree@mit.edu\n",
      "email sent!\n",
      "ealiu@mit.edu, lennak@mit.edu, sampai@mit.edu, davidglz@mit.edu, oanibaba@mit.edu, dorah@mit.edu\n",
      "email sent!\n",
      "jdurham@mit.edu, dchheda@mit.edu, graceyan@mit.edu, maguiar@mit.edu, cwickert@mit.edu\n",
      "email sent!\n",
      "nithyaa@mit.edu, gpcs@mit.edu, peggyy@mit.edu, mayhuang@mit.edu, acetiff@mit.edu, eqli@mit.edu, snmohan@mit.edu, rkelkar@mit.edu, shreya46@mit.edu, ajarora@mit.edu\n",
      "email sent!\n",
      "iliu@mit.edu, vlad02ch@mit.edu, jhess22@mit.edu, Dma312@mit.edu, mial@mit.edu, fcai@mit.edu, duhasyar@mit.edu, devinmur@mit.edu, jcai1@mit.edu, meganlim@mit.edu\n",
      "email sent!\n",
      "mflong@mit.edu, joym@mit.edu, mahmoudk@mit.edu, tsm255@mit.edu, jdtzmn@mit.edu, crystw@mit.edu, jzli@mit.edu, guang@mit.edu, aayushg@mit.edu, aquach@mit.edu\n",
      "email sent!\n",
      "lulew@mit.edu, cgutierr@mit.edu, jamerkel@mit.edu, Jhensley@mit.edu, kanotung@mit.edu, etmowery@mit.edu, awoufack@mit.edu, mchidume@mit.edu, abhitha@mit.edu, lacthu@mit.edu\n",
      "email sent!\n",
      "Rudiba@mit.edu, demil@mit.edu, mensahk@mit.edu, anishrav@mit.edu, Bukunmi@mit.edu, cmohi@mit.edu\n",
      "email sent!\n",
      "pahernan@mit.edu, felixli@mit.edu, emwang23@mit.edu, crozier@mit.edu, crista@mit.edu, t_gao@mit.edu, jshx@mit.edu, dashac@mit.edu, rsknight@mit.edu, ewang824@mit.edu\n",
      "email sent!\n",
      "chengv@mit.edu, chryu@mit.edu, amli@mit.edu, rachelzheng01@gmail.com, gracelli@mit.edu, jennyxz@mit.edu, amylei@mit.edu, wujl@mit.edu\n",
      "email sent!\n",
      "jamild@mit.edu, Lcforges@mit.edu, florg@mit.edu, ogolaedd@mit.edu, arid@mit.edu, alexis13@mit.edu, divij@mit.edu, prestonc@mit.edu, Jennydf@mit.edu, saakethv@mit.edu\n",
      "email sent!\n",
      "leelaf@mit.edu, iwshi@mit.edu, ashley22@mit.edu, jemma@mit.edu, aps25@mit.edu\n",
      "email sent!\n",
      "paigeb@mit.edu, rindk@mit.edu, kateep@mit.edu, joanneyu@mit.edu, jenz33@mit.edu\n",
      "email sent!\n",
      "rmkim@mit.edu, eileen03@mit.edu, audreyv@mit.edu, awmei@mit.edu, maximo@mit.edu\n",
      "email sent!\n",
      "kcox1729@mit.edu, mniwheat@mit.edu, johank@mit.edu, carreter@mit.edu, emalkin@mit.edu, adevasia@mit.edu, brennakm@mit.edu, atmargi@mit.edu, anamp@mit.edu, wjack@mit.edu\n",
      "email sent!\n",
      "Barrerab@mit.edu, atanon@mit.edu, mercadol@mit.edu, nswood@mit.edu, deraaij@mit.edu\n",
      "email sent!\n",
      "diani@mit.edu, nnedimma@mit.edu, kosinw@mit.edu, sjrhodes@mit.edu, kajran@mit.edu\n",
      "email sent!\n",
      "htuomi@mit.edu, Crafty@mit.edu, megankj@mit.edu, reyesm@mit.edu, sukiz@mit.edu, amzhao@mit.edu, daspicer@mit.edu, annieliu@mit.edu, Dctorres@mit.edu, iobal@mit.edu\n",
      "email sent!\n",
      "acbeck@mit.edu, Hchunton@mit.edu, kcard@mit.edu, moladipo@mit.edu, miri252@mit.edu\n",
      "email sent!\n",
      "skar@mit.edu, oliviatr@mit.edu, ammolina@mit.edu, elmills@mit.edu, rokas@mit.edu\n",
      "email sent!\n",
      "aamartz@mit.edu, spxce_el@mit.edu, viets@mit.edu, agarces2@mit.edu, atmargi@mit.edu\n",
      "email sent!\n",
      "brukew@mit.edu, alanv@mit.edu, ajisafe@mit.edu, antorebo@mit.edu, jkuffour@mit.edu, catlu@mit.edu\n",
      "email sent!\n",
      "jmatthe@mit.edu, gracexu@mit.edu, vhs@mit.edu, kyralynn@mit.edu, lvpal@mit.edu\n",
      "email sent!\n",
      "thedavid@mit.edu, gculp@mit.edu, psales@mit.edu, mimisuar@mit.edu, cemarda@mit.edu\n",
      "email sent!\n",
      "emilywg@mit.edu, Svanpelt@mit.edu, azreen@mit.edu, geathers@mit.edu, kba@mit.edu, selenaz@mit.edu, tcqian@mit.edu\n",
      "email sent!\n",
      "dshyamal@mit.edu, delightn@mit.edu, jscott19@mit.edu, favoured@mit.edu, glmoore@mit.edu\n",
      "email sent!\n",
      "jnwang@mit.edu, hgzhang@mit.edu, Kjulca@mit.edu, asantoss@mit.edu, ambre@mit.edu\n",
      "email sent!\n",
      "cmirro@mit.edu, lshoji@mit.edu, scherea@mit.edu, ichiosa@mit.edu, oabdulai@mit.edu, laurensw@mit.edu, laasya@mit.edu, j_luera@mit.edu, shreyar@mit.edu, doronh@mit.edu\n",
      "email sent!\n",
      "nory@mit.edu, sweng@mit.edu, handales@mit.edu, doluigbo@mit.edu, zhixingc@mit.edu, supriya@mit.edu, ccimogu@mit.edu, alisonw@mit.edu, Giramnah@mit.edu, vgao@mit.edu\n",
      "email sent!\n",
      "vshir@mit.edu, dsert@mit.edu, meschae@mit.edu, jasminey@mit.edu, annarasm@mit.edu\n",
      "email sent!\n",
      "darrenl@mit.edu, arbri@mit.edu, Jyambasu@mit.edu, kuze@mit.edu, meganwei@mit.edu, joannach@mit.edu, yujing6@mit.edu, salmai@mit.edu, sgrg@mit.edu, ramgus@mit.edu\n",
      "email sent!\n",
      "jkand@mit.edu, ikrosado@mit.edu, aliciasc@mit.edu, ccunning@mit.edu, odahleh@mit.edu, jmlaw@mit.edu, gduque@mit.edu, JLWASH@MIT.EDU, eokeke@mit.edu, jacobshp@mit.edu\n",
      "email sent!\n",
      "silushen@mit.edu, scigwe@mit.edu, jmoore1@mit.edu, jennyzhu@mit.edu, lilianw@mit.edu\n",
      "email sent!\n"
     ]
    }
   ],
   "source": [
    "import smtplib\n",
    "import imaplib\n",
    "import time\n",
    "import ssl\n",
    "from email.mime.multipart import MIMEMultipart\n",
    "from email.mime.text import MIMEText\n",
    "import textwrap\n",
    "\n",
    "relevant_cols = [\"first_name\", \"last_name\", \"Email\"] + [\"genre_\" + str(i) for i in range(1,6)] + [\"songs_\" + str(i) for i in range(1,6)] + [\"artist_\" + str(i) for i in range(1,6)] + [\"aura_1\", \"aura_2\"]\n",
    "\n",
    "username='******'\n",
    "password='******'\n",
    "\n",
    "\n",
    "#imap = imaplib.IMAP4_SSL('imap.exchange.mit.edu', 993)\n",
    "#imap.login('ajarora@mit.edu', password)\n",
    "\n",
    "sender_mail = \"ajarora@mit.edu\"\n",
    "for cluster in range(0, 40):\n",
    "    #df = pd.read_excel(open('output final.xlsx', 'rb'),\n",
    "    #          sheet_name='Sheet' + str(cluster))  \n",
    "    select_df = df[df['cluster']==cluster][relevant_cols]\n",
    "    receivers_mail = list(select_df['Email'])\n",
    "    #print(receivers_mail)\n",
    "    #receivers_mail = ['ajarora@mit.edu']\n",
    "    recipients = receivers_mail + ['ajarora@mit.edu']\n",
    "    to = \", \".join(receivers_mail)\n",
    "    full_to = \", \".join(recipients)\n",
    "    print(to)\n",
    "    msg = MIMEMultipart(\"mixed\")\n",
    "\n",
    "    msg['Subject'] = \"UA Music Match Grouping!\"\n",
    "    msg['From'] = sender_mail\n",
    "    msg['To'] = to\n",
    "\n",
    "    msgOne = MIMEText(textwrap.dedent(\"\"\"\\\n",
    "    Thank you all for participating in the 2021 UA Music Match! The algorithm is run and groups are out, with 300 submissions put into 40 different groups. Find attached your group and their top artists, songs, and genres; be sure to check it out to find some new artists and songs to explore.\n",
    "    \n",
    "    All in all, we hope that this group serves as a resource to find new music, talk about your favorite artists, or find someone to go a concert with. Feel free to take the conversation from here and set up a zoom call over break to learn more about each other!\n",
    "    \n",
    "    If you have any questions on how this grouping was done, feel free to reach out directly. \n",
    "    \n",
    "    Good luck with finals everyone, and happy listening!\n",
    "    \n",
    "    Merry Christmas,\n",
    "    The UA\"\"\".format(str(cluster))))\n",
    "    msg.attach(msgOne)\n",
    "    \n",
    "    html = \"\"\"\\\n",
    "    <html>\n",
    "      <head></head>\n",
    "      <body>\n",
    "        {0}\n",
    "      </body>\n",
    "    </html>\n",
    "    \"\"\".format(select_df.to_html(index=False))\n",
    "\n",
    "    msgTwo = MIMEText(html, 'html')\n",
    "    msg.attach(msgTwo)\n",
    "    mailServer = smtplib.SMTP('outgoing.mit.edu', 587)\n",
    "    mailServer.ehlo()\n",
    "    mailServer.starttls()\n",
    "    mailServer.ehlo()\n",
    "    mailServer.login(username, password)\n",
    "    mailServer.sendmail(sender_mail, to, msg.as_string())\n",
    "    mailServer.close()\n",
    "    print('email sent!')\n",
    "    #print(msg.as_string())\n",
    "    #imap.append('INBOX.Sent', '\\\\Seen', imaplib.Time2Internaldate(time.time()), msg.as_string().encode('utf8'))\n",
    "    \n",
    "\n",
    "\n",
    "#imap.logout()\n",
    "\n"
   ]
  },
  {
   "cell_type": "code",
   "execution_count": null,
   "id": "dfb37259",
   "metadata": {},
   "outputs": [],
   "source": [
    "for cluster in range(40):\n",
    "    df = pd.read_excel(open('output final.xlsx', 'rb'),\n",
    "              sheet_name='Sheet' + str(cluster))  \n",
    "    receivers_mail = list(df['Email'])\n",
    "    print(receivers_mail)\n",
    "    receivers_mail = ['ajarora@mit.edu']\n",
    "    to = \", \".join(receivers_mail)\n",
    "    msg = MIMEText(\"Hi everyone,\\nYou are in group \" + str(cluster) + \" for this year's music match! To find your group and new songs to listen to, check out your group\\'s sheet (so group 26 has a sheet named \\\"Group26\\\") here: https://docs.google.com/spreadsheets/d/1D9jjMo7VNeRguHT4pXxHMQQ5i_8GgXbN/edit?usp=sharing&ouid=108111349943323864126&rtpof=true&sd=true\"+ \"\\nGood luck with finals, and happy listening!\\nThe UA\")\n",
    "\n",
    "    msg['Subject'] = \"Test email part 2\"\n",
    "    msg['From'] = sender_mail\n",
    "    msg['To'] = to\n",
    "\n",
    "    mailServer.sendmail(sender_mail, to, msg.as_string())\n",
    "    mailServer.close()"
   ]
  },
  {
   "cell_type": "code",
   "execution_count": null,
   "id": "b78c7360",
   "metadata": {},
   "outputs": [],
   "source": [
    "import smtplib\n",
    "import imaplib\n",
    "import time\n",
    "import ssl\n",
    "from email.mime.multipart import MIMEMultipart\n",
    "from email.mime.text import MIMEText\n",
    "import textwrap\n",
    "\n",
    "relevant_cols = [\"first_name\", \"last_name\", \"Email\"] + [\"genre_\" + str(i) for i in range(1,6)] + [\"songs_\" + str(i) for i in range(1,6)] + [\"artist_\" + str(i) for i in range(1,6)] + [\"aura_1\", \"aura_2\"]\n",
    "\n",
    "username='ajarora'\n",
    "password='Irwtgs!!'\n",
    "\n",
    "\n",
    "#imap = imaplib.IMAP4_SSL('imap.exchange.mit.edu', 993)\n",
    "#imap.login('ajarora@mit.edu', password)\n",
    "\n",
    "sender_mail = \"ajarora@mit.edu\"\n",
    "for cluster in range(0, 40):\n",
    "    #df = pd.read_excel(open('output final.xlsx', 'rb'),\n",
    "    #          sheet_name='Sheet' + str(cluster))  \n",
    "    select_df = df[df['cluster']==cluster][relevant_cols]\n",
    "    receivers_mail = list(select_df['Email'])\n",
    "    #print(receivers_mail)\n",
    "    receivers_mail = ['ajarora@mit.edu']\n",
    "    recipients = receivers_mail + ['ajarora@mit.edu']\n",
    "    to = \", \".join(receivers_mail)\n",
    "    full_to = \", \".join(recipients)\n",
    "    print(to)\n",
    "    msg = MIMEMultipart(\"mixed\")\n",
    "\n",
    "    msg['Subject'] = \"UA Music Match Grouping!\"\n",
    "    msg['From'] = sender_mail\n",
    "    msg['To'] = to\n",
    "\n",
    "    msgOne = MIMEText(textwrap.dedent(\"\"\"\\\n",
    "    Thank you all for participating in the 2021 UA Music Match! The algorithm is run and groups are out, with 300 submissions put into 40 different groups. Find attached your group and their top artists, songs, and genres; be sure to check it out to find some new artists and songs to explore.\n",
    "    \n",
    "    All in all, we hope that this group serves as a resource to find new music, talk about your favorite artists, or find someone to go a concert with. Feel free to take the conversation from here and set up a zoom call over break to learn more about each other!\n",
    "    \n",
    "    If you have any questions on how this grouping was done, feel free to reach out directly. \n",
    "    \n",
    "    Good luck with finals everyone, and happy listening!\n",
    "    \n",
    "    Merry Christmas,\n",
    "    The UA\"\"\"))\n",
    "    msg.attach(msgOne)\n",
    "    \n",
    "    html = \"\"\"\\\n",
    "    <html>\n",
    "      <head></head>\n",
    "      <body>\n",
    "        {0}\n",
    "      </body>\n",
    "    </html>\n",
    "    \"\"\".format(select_df.to_html(index=False))\n",
    "\n",
    "    msgTwo = MIMEText(html, 'html')\n",
    "    msg.attach(msgTwo)\n",
    "    mailServer = smtplib.SMTP('outgoing.mit.edu', 587)\n",
    "    mailServer.ehlo()\n",
    "    mailServer.starttls()\n",
    "    mailServer.ehlo()\n",
    "    mailServer.login(username, password)\n",
    "    mailServer.sendmail(sender_mail, to, msg.as_string())\n",
    "    mailServer.close()\n",
    "    print('email sent!')\n",
    "    #print(msg.as_string())\n",
    "    #imap.append('INBOX.Sent', '\\\\Seen', imaplib.Time2Internaldate(time.time()), msg.as_string().encode('utf8'))\n",
    "    \n",
    "\n",
    "\n",
    "#imap.logout()\n",
    "\n"
   ]
  }
 ],
 "metadata": {
  "kernelspec": {
   "display_name": "Python 3 (ipykernel)",
   "language": "python",
   "name": "python3"
  },
  "language_info": {
   "codemirror_mode": {
    "name": "ipython",
    "version": 3
   },
   "file_extension": ".py",
   "mimetype": "text/x-python",
   "name": "python",
   "nbconvert_exporter": "python",
   "pygments_lexer": "ipython3",
   "version": "3.9.7"
  }
 },
 "nbformat": 4,
 "nbformat_minor": 5
}
