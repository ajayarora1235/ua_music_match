{
 "cells": [
  {
   "cell_type": "code",
   "execution_count": 43,
   "id": "4c5192d9",
   "metadata": {},
   "outputs": [],
   "source": [
    "import pandas as pd"
   ]
  },
  {
   "cell_type": "code",
   "execution_count": 84,
   "id": "b6b21ce7",
   "metadata": {},
   "outputs": [
    {
     "name": "stdout",
     "output_type": "stream",
     "text": [
      "Index(['StartDate', 'EndDate', 'Status', 'IPAddress', 'Progress',\n",
      "       'Duration (in seconds)', 'Finished', 'RecordedDate', 'ResponseId',\n",
      "       'RecipientLastName', 'RecipientFirstName', 'RecipientEmail',\n",
      "       'ExternalReference', 'LocationLatitude', 'LocationLongitude',\n",
      "       'DistributionChannel', 'UserLanguage', 'first_name', 'last_name',\n",
      "       'Email', 'class_year', 'genre_1', 'genre_1_other', 'genre_2',\n",
      "       'genre_2_other', 'genre_3', 'genre_3_other', 'genre_4', 'genre_4_other',\n",
      "       'genre_5', 'genre_5_other', 'num_genres', 'songs_1', 'songs_2',\n",
      "       'songs_3', 'songs_4', 'songs_5', 'artist_1', 'artist_1_other',\n",
      "       'artist_1_min', 'artist_2', 'artist_2_other', 'artist_3',\n",
      "       'artist_3_other', 'artist_4', 'artist_4_other', 'artist_5',\n",
      "       'artist_5_other', 'min_total', 'top_song_plays', 'aura_1', 'aura_2'],\n",
      "      dtype='object')\n"
     ]
    }
   ],
   "source": [
    "df = pd.read_csv('2021_responses.csv')\n",
    "print(df.columns)"
   ]
  },
  {
   "cell_type": "code",
   "execution_count": 85,
   "id": "ac2cba44",
   "metadata": {},
   "outputs": [],
   "source": [
    "df = df[df.columns[17:]]\n",
    "df = df.iloc[3:]"
   ]
  },
  {
   "cell_type": "code",
   "execution_count": 86,
   "id": "ee049c4c",
   "metadata": {},
   "outputs": [],
   "source": [
    "incomplete = df[df[\"genre_1\"].isna() | df[\"genre_2\"].isna() | df[\"genre_3\"].isna() | df[\"genre_4\"].isna() | df[\"genre_5\"].isna() | (df[\"artist_2\"].isna() & df[\"artist_3\"].isna() & df[\"artist_4\"].isna() & df[\"artist_5\"].isna())]\n",
    "complete = df[~df[\"genre_1\"].isna() & ~df[\"genre_2\"].isna() & ~df[\"genre_3\"].isna() & ~df[\"genre_4\"].isna() & ~df[\"genre_5\"].isna() & (~df[\"artist_2\"].isna() | ~df[\"artist_3\"].isna() | ~df[\"artist_4\"].isna() | ~df[\"artist_5\"].isna())]\n"
   ]
  },
  {
   "cell_type": "code",
   "execution_count": 87,
   "id": "13b487d4",
   "metadata": {},
   "outputs": [],
   "source": [
    "complete = complete[complete.first_name != \"a\"]"
   ]
  },
  {
   "cell_type": "code",
   "execution_count": 88,
   "id": "9628f260",
   "metadata": {},
   "outputs": [
    {
     "name": "stdout",
     "output_type": "stream",
     "text": [
      "39\n"
     ]
    }
   ],
   "source": [
    "print(len(incomplete))"
   ]
  },
  {
   "cell_type": "code",
   "execution_count": 89,
   "id": "f132d248",
   "metadata": {},
   "outputs": [
    {
     "name": "stdout",
     "output_type": "stream",
     "text": [
      "258\n"
     ]
    }
   ],
   "source": [
    "print(len(complete))"
   ]
  },
  {
   "cell_type": "code",
   "execution_count": 90,
   "id": "3131fa7c",
   "metadata": {},
   "outputs": [
    {
     "data": {
      "text/plain": [
       "first_name          0\n",
       "last_name           0\n",
       "Email               0\n",
       "class_year          0\n",
       "genre_1             0\n",
       "genre_1_other     253\n",
       "genre_2             0\n",
       "genre_2_other     248\n",
       "genre_3             0\n",
       "genre_3_other     249\n",
       "genre_4             0\n",
       "genre_4_other     248\n",
       "genre_5             0\n",
       "genre_5_other     246\n",
       "num_genres         60\n",
       "songs_1             0\n",
       "songs_2             0\n",
       "songs_3             0\n",
       "songs_4             0\n",
       "songs_5             0\n",
       "artist_1            1\n",
       "artist_1_other    141\n",
       "artist_1_min      115\n",
       "artist_2            5\n",
       "artist_2_other    138\n",
       "artist_3            6\n",
       "artist_3_other    134\n",
       "artist_4            7\n",
       "artist_4_other    140\n",
       "artist_5            6\n",
       "artist_5_other    125\n",
       "min_total          47\n",
       "top_song_plays     77\n",
       "aura_1             43\n",
       "aura_2             45\n",
       "dtype: int64"
      ]
     },
     "execution_count": 90,
     "metadata": {},
     "output_type": "execute_result"
    }
   ],
   "source": [
    "complete.isna().sum()"
   ]
  },
  {
   "cell_type": "code",
   "execution_count": 92,
   "id": "b13030bd",
   "metadata": {},
   "outputs": [
    {
     "data": {
      "text/html": [
       "<div>\n",
       "<style scoped>\n",
       "    .dataframe tbody tr th:only-of-type {\n",
       "        vertical-align: middle;\n",
       "    }\n",
       "\n",
       "    .dataframe tbody tr th {\n",
       "        vertical-align: top;\n",
       "    }\n",
       "\n",
       "    .dataframe thead th {\n",
       "        text-align: right;\n",
       "    }\n",
       "</style>\n",
       "<table border=\"1\" class=\"dataframe\">\n",
       "  <thead>\n",
       "    <tr style=\"text-align: right;\">\n",
       "      <th></th>\n",
       "      <th>first_name</th>\n",
       "      <th>last_name</th>\n",
       "      <th>Email</th>\n",
       "      <th>class_year</th>\n",
       "      <th>genre_1</th>\n",
       "      <th>genre_1_other</th>\n",
       "      <th>genre_2</th>\n",
       "      <th>genre_2_other</th>\n",
       "      <th>genre_3</th>\n",
       "      <th>genre_3_other</th>\n",
       "      <th>...</th>\n",
       "      <th>artist_3</th>\n",
       "      <th>artist_3_other</th>\n",
       "      <th>artist_4</th>\n",
       "      <th>artist_4_other</th>\n",
       "      <th>artist_5</th>\n",
       "      <th>artist_5_other</th>\n",
       "      <th>min_total</th>\n",
       "      <th>top_song_plays</th>\n",
       "      <th>aura_1</th>\n",
       "      <th>aura_2</th>\n",
       "    </tr>\n",
       "  </thead>\n",
       "  <tbody>\n",
       "    <tr>\n",
       "      <th>76</th>\n",
       "      <td>Amber</td>\n",
       "      <td>Li</td>\n",
       "      <td>amli@mit.edu</td>\n",
       "      <td>2022</td>\n",
       "      <td>K-pop</td>\n",
       "      <td>NaN</td>\n",
       "      <td>C-pop</td>\n",
       "      <td>NaN</td>\n",
       "      <td>Melodic dubstep</td>\n",
       "      <td>NaN</td>\n",
       "      <td>...</td>\n",
       "      <td>Other</td>\n",
       "      <td>Porter Robinson</td>\n",
       "      <td>Other</td>\n",
       "      <td>San Holo</td>\n",
       "      <td>Taylor Swift</td>\n",
       "      <td>NaN</td>\n",
       "      <td>16515</td>\n",
       "      <td>21</td>\n",
       "      <td>healing</td>\n",
       "      <td>focused</td>\n",
       "    </tr>\n",
       "  </tbody>\n",
       "</table>\n",
       "<p>1 rows × 35 columns</p>\n",
       "</div>"
      ],
      "text/plain": [
       "   first_name last_name         Email class_year genre_1 genre_1_other  \\\n",
       "76      Amber        Li  amli@mit.edu       2022   K-pop           NaN   \n",
       "\n",
       "   genre_2 genre_2_other          genre_3 genre_3_other  ... artist_3  \\\n",
       "76   C-pop           NaN  Melodic dubstep           NaN  ...    Other   \n",
       "\n",
       "     artist_3_other artist_4 artist_4_other      artist_5 artist_5_other  \\\n",
       "76  Porter Robinson    Other       San Holo  Taylor Swift            NaN   \n",
       "\n",
       "   min_total top_song_plays   aura_1   aura_2  \n",
       "76     16515             21  healing  focused  \n",
       "\n",
       "[1 rows x 35 columns]"
      ]
     },
     "execution_count": 92,
     "metadata": {},
     "output_type": "execute_result"
    }
   ],
   "source": [
    "complete[complete['artist_1'].isna()]"
   ]
  },
  {
   "cell_type": "code",
   "execution_count": 93,
   "id": "f043be98",
   "metadata": {},
   "outputs": [
    {
     "data": {
      "text/plain": [
       "first_name          0\n",
       "last_name           0\n",
       "Email               0\n",
       "class_year          0\n",
       "genre_1             5\n",
       "genre_1_other       0\n",
       "genre_2            10\n",
       "genre_2_other       0\n",
       "genre_3             9\n",
       "genre_3_other       0\n",
       "genre_4            10\n",
       "genre_4_other       0\n",
       "genre_5            12\n",
       "genre_5_other       0\n",
       "num_genres          0\n",
       "songs_1             0\n",
       "songs_2             0\n",
       "songs_3             0\n",
       "songs_4             0\n",
       "songs_5             0\n",
       "artist_1          117\n",
       "artist_1_other      0\n",
       "artist_1_min        0\n",
       "artist_2          122\n",
       "artist_2_other      0\n",
       "artist_3          127\n",
       "artist_3_other      0\n",
       "artist_4          119\n",
       "artist_4_other      0\n",
       "artist_5          134\n",
       "artist_5_other      0\n",
       "min_total           0\n",
       "top_song_plays      0\n",
       "aura_1              0\n",
       "aura_2              0\n",
       "dtype: int64"
      ]
     },
     "execution_count": 93,
     "metadata": {},
     "output_type": "execute_result"
    }
   ],
   "source": [
    "(complete == \"Other\").sum()"
   ]
  },
  {
   "cell_type": "code",
   "execution_count": 101,
   "id": "8bfb4a9e",
   "metadata": {},
   "outputs": [],
   "source": [
    "for col in [\"genre\", \"artist\"]:\n",
    "    for i in range(1, 6):\n",
    "        complete[col + \"_\" + str(i)][complete[col + \"_\" + str(i)] == \"Other\"] = complete[col + \"_\" + str(i) + \"_other\"]\n",
    "        complete[col + \"_\" + str(i)][complete[col + \"_\" + str(i)].isna()] = complete[col + \"_\" + str(i) + \"_other\"]"
   ]
  },
  {
   "cell_type": "code",
   "execution_count": 102,
   "id": "78090372",
   "metadata": {},
   "outputs": [
    {
     "data": {
      "text/plain": [
       "first_name        0\n",
       "last_name         0\n",
       "Email             0\n",
       "class_year        0\n",
       "genre_1           0\n",
       "genre_1_other     0\n",
       "genre_2           0\n",
       "genre_2_other     0\n",
       "genre_3           0\n",
       "genre_3_other     0\n",
       "genre_4           0\n",
       "genre_4_other     0\n",
       "genre_5           0\n",
       "genre_5_other     0\n",
       "num_genres        0\n",
       "songs_1           0\n",
       "songs_2           0\n",
       "songs_3           0\n",
       "songs_4           0\n",
       "songs_5           0\n",
       "artist_1          0\n",
       "artist_1_other    0\n",
       "artist_1_min      0\n",
       "artist_2          0\n",
       "artist_2_other    0\n",
       "artist_3          0\n",
       "artist_3_other    0\n",
       "artist_4          0\n",
       "artist_4_other    0\n",
       "artist_5          0\n",
       "artist_5_other    0\n",
       "min_total         0\n",
       "top_song_plays    0\n",
       "aura_1            0\n",
       "aura_2            0\n",
       "dtype: int64"
      ]
     },
     "execution_count": 102,
     "metadata": {},
     "output_type": "execute_result"
    }
   ],
   "source": [
    "(complete == \"Other\").sum()"
   ]
  },
  {
   "cell_type": "code",
   "execution_count": 103,
   "id": "8495519d",
   "metadata": {},
   "outputs": [
    {
     "data": {
      "text/plain": [
       "first_name          0\n",
       "last_name           0\n",
       "Email               0\n",
       "class_year          0\n",
       "genre_1             0\n",
       "genre_1_other     253\n",
       "genre_2             0\n",
       "genre_2_other     248\n",
       "genre_3             0\n",
       "genre_3_other     249\n",
       "genre_4             0\n",
       "genre_4_other     248\n",
       "genre_5             0\n",
       "genre_5_other     246\n",
       "num_genres         60\n",
       "songs_1             0\n",
       "songs_2             0\n",
       "songs_3             0\n",
       "songs_4             0\n",
       "songs_5             0\n",
       "artist_1            1\n",
       "artist_1_other    141\n",
       "artist_1_min      115\n",
       "artist_2            7\n",
       "artist_2_other    138\n",
       "artist_3            9\n",
       "artist_3_other    134\n",
       "artist_4            8\n",
       "artist_4_other    140\n",
       "artist_5            7\n",
       "artist_5_other    125\n",
       "min_total          47\n",
       "top_song_plays     77\n",
       "aura_1             43\n",
       "aura_2             45\n",
       "dtype: int64"
      ]
     },
     "execution_count": 103,
     "metadata": {},
     "output_type": "execute_result"
    }
   ],
   "source": [
    "complete.isna().sum()"
   ]
  },
  {
   "cell_type": "code",
   "execution_count": 104,
   "id": "b4660f80",
   "metadata": {},
   "outputs": [],
   "source": [
    "#genres to all lowercases\n",
    "for i in range(1, 6):\n",
    "    complete[\"genre_\" + str(i)] = complete[\"genre_\" + str(i)].str.lower()"
   ]
  },
  {
   "cell_type": "code",
   "execution_count": 105,
   "id": "6c2d6791",
   "metadata": {},
   "outputs": [],
   "source": [
    "complete.to_csv(\"cleaned_responses.csv\")"
   ]
  },
  {
   "cell_type": "code",
   "execution_count": 108,
   "id": "dec9e977",
   "metadata": {},
   "outputs": [
    {
     "name": "stdout",
     "output_type": "stream",
     "text": [
      "email sent!\n"
     ]
    },
    {
     "data": {
      "text/plain": [
       "'\\n\\nSMTP Server\\toutgoing.mit.edu\\nPort\\t465 (SSL) or 587 (TLS)\\nUsername\\tKerberos username (without @mit.edu)\\nPassword\\tKerberos Password\\n'"
      ]
     },
     "execution_count": 108,
     "metadata": {},
     "output_type": "execute_result"
    }
   ],
   "source": [
    "import smtplib\n",
    "\n",
    "username='ajarora'\n",
    "password='******'\n",
    "mailServer = smtplib.SMTP('outgoing.mit.edu', 587)\n",
    "mailServer.ehlo()\n",
    "mailServer.starttls()\n",
    "mailServer.ehlo()\n",
    "mailServer.login(username, password)\n",
    "\n",
    "sender_mail = \"ajarora@mit.edu\"\n",
    "receivers_mail = ['ajayarora1235@gmail.com']\n",
    "to = \", \".join(receivers_mail)\n",
    "subject = \"Test email part 2\"\n",
    "message = \"\"\"\\\n",
    "From: %s\n",
    "To: %s\n",
    "Subject: %s\n",
    "\n",
    "%s\n",
    "\"\"\" % (sender_mail, \", \".join(receivers_mail), subject, \"This mail is sent using Python SMTP.\")\n",
    "#message = \"\"\"Subject: Python testing mail#\n",
    "#\n",
    "#            This mail is sent using Python SMTP.\"\"\"\n",
    "mailServer.sendmail(sender_mail, to, message)\n",
    "mailServer.close()\n",
    "\n",
    "print('email sent!')\n",
    "'''\n",
    "\n",
    "SMTP Server\toutgoing.mit.edu\n",
    "Port\t465 (SSL) or 587 (TLS)\n",
    "Username\tKerberos username (without @mit.edu)\n",
    "Password\tKerberos Password\n",
    "'''"
   ]
  },
  {
   "cell_type": "code",
   "execution_count": null,
   "id": "9128da39",
   "metadata": {},
   "outputs": [],
   "source": []
  }
 ],
 "metadata": {
  "kernelspec": {
   "display_name": "Python 3 (ipykernel)",
   "language": "python",
   "name": "python3"
  },
  "language_info": {
   "codemirror_mode": {
    "name": "ipython",
    "version": 3
   },
   "file_extension": ".py",
   "mimetype": "text/x-python",
   "name": "python",
   "nbconvert_exporter": "python",
   "pygments_lexer": "ipython3",
   "version": "3.9.7"
  }
 },
 "nbformat": 4,
 "nbformat_minor": 5
}
