{
 "cells": [
  {
   "cell_type": "code",
   "execution_count": 6,
   "metadata": {},
   "outputs": [],
   "source": [
    "import pandas as pd"
   ]
  },
  {
   "cell_type": "code",
   "execution_count": 7,
   "metadata": {},
   "outputs": [
    {
     "name": "stdout",
     "output_type": "stream",
     "text": [
      "Index(['StartDate', 'EndDate', 'Status', 'IPAddress', 'Progress',\n",
      "       'Duration (in seconds)', 'Finished', 'RecordedDate', 'ResponseId',\n",
      "       'RecipientLastName', 'RecipientFirstName', 'RecipientEmail',\n",
      "       'ExternalReference', 'LocationLatitude', 'LocationLongitude',\n",
      "       'DistributionChannel', 'UserLanguage', 'first_name', 'last_name',\n",
      "       'Email', 'class_year', 'genre_1', 'genre_1_other', 'genre_2',\n",
      "       'genre_2_other', 'genre_3', 'genre_3_other', 'genre_4', 'genre_4_other',\n",
      "       'genre_5', 'genre_5_other', 'num_genres', 'songs_1', 'songs_2',\n",
      "       'songs_3', 'songs_4', 'songs_5', 'artist_1', 'artist_1_other',\n",
      "       'artist_1_min', 'artist_2', 'artist_2_other', 'artist_3',\n",
      "       'artist_3_other', 'artist_4', 'artist_4_other', 'artist_5',\n",
      "       'artist_5_other', 'min_total', 'top_song_plays', 'aura_1', 'aura_2'],\n",
      "      dtype='object')\n"
     ]
    }
   ],
   "source": [
    "df = pd.read_csv('2021_responses.csv')\n",
    "print(df.columns)"
   ]
  },
  {
   "cell_type": "code",
   "execution_count": 8,
   "metadata": {},
   "outputs": [],
   "source": [
    "df = df[df.columns[17:]]\n",
    "df = df.iloc[3:]"
   ]
  },
  {
   "cell_type": "code",
   "execution_count": 11,
   "metadata": {},
   "outputs": [],
   "source": [
    "#incomplete = df[df[\"genre_2\"].isna() | df[\"genre_3\"].isna() | df[\"genre_4\"].isna() | df[\"genre_5\"].isna() | (df[\"artist_2\"].isna() & df[\"artist_3\"].isna() & df[\"artist_4\"].isna() & df[\"artist_5\"].isna())]\n",
    "#complete = df[~df[\"genre_2\"].isna() & ~df[\"genre_3\"].isna() & ~df[\"genre_4\"].isna() & ~df[\"genre_5\"].isna() & (~df[\"artist_2\"].isna() | ~df[\"artist_3\"].isna() | ~df[\"artist_4\"].isna() | ~df[\"artist_5\"].isna())]\n"
   ]
  },
  {
   "cell_type": "code",
   "execution_count": 15,
   "metadata": {},
   "outputs": [
    {
     "name": "stderr",
     "output_type": "stream",
     "text": [
      "<ipython-input-15-b1e7cd43d8fd>:8: SettingWithCopyWarning: \n",
      "A value is trying to be set on a copy of a slice from a DataFrame.\n",
      "Try using .loc[row_indexer,col_indexer] = value instead\n",
      "\n",
      "See the caveats in the documentation: http://pandas.pydata.org/pandas-docs/stable/user_guide/indexing.html#returning-a-view-versus-a-copy\n",
      "  incomplete[\"genre_\" + str(i)] = incomplete[\"genre_\" + str(i)].str.lower()\n",
      "<ipython-input-15-b1e7cd43d8fd>:9: SettingWithCopyWarning: \n",
      "A value is trying to be set on a copy of a slice from a DataFrame.\n",
      "Try using .loc[row_indexer,col_indexer] = value instead\n",
      "\n",
      "See the caveats in the documentation: http://pandas.pydata.org/pandas-docs/stable/user_guide/indexing.html#returning-a-view-versus-a-copy\n",
      "  incomplete[\"artist_\" + str(i)] = incomplete[\"artist_\" + str(i)].str.lower()\n"
     ]
    }
   ],
   "source": [
    "for col in [\"genre\", \"artist\"]:\n",
    "    for i in range(1, 6):\n",
    "        incomplete[col + \"_\" + str(i)][incomplete[col + \"_\" + str(i)] == \"Other\"] = incomplete[col + \"_\" + str(i) + \"_other\"]\n",
    "        incomplete[col + \"_\" + str(i)][incomplete[col + \"_\" + str(i)].isna()] = incomplete[col + \"_\" + str(i) + \"_other\"]\n",
    "        \n",
    "#genres to all lowercases\n",
    "for i in range(1, 6):\n",
    "    incomplete[\"genre_\" + str(i)] = incomplete[\"genre_\" + str(i)].str.lower()\n",
    "    incomplete[\"artist_\" + str(i)] = incomplete[\"artist_\" + str(i)].str.lower()\n",
    "    \n",
    "incomplete.to_csv(\"faulty_people_responses.csv\")"
   ]
  },
  {
   "cell_type": "code",
   "execution_count": 16,
   "metadata": {},
   "outputs": [],
   "source": [
    "df = df[df.first_name != \"a\"]"
   ]
  },
  {
   "cell_type": "code",
   "execution_count": 13,
   "metadata": {},
   "outputs": [
    {
     "name": "stdout",
     "output_type": "stream",
     "text": [
      "17\n"
     ]
    }
   ],
   "source": [
    "print(len(incomplete))"
   ]
  },
  {
   "cell_type": "code",
   "execution_count": 14,
   "metadata": {},
   "outputs": [
    {
     "name": "stdout",
     "output_type": "stream",
     "text": [
      "280\n"
     ]
    }
   ],
   "source": [
    "print(len(complete))"
   ]
  },
  {
   "cell_type": "code",
   "execution_count": 17,
   "metadata": {},
   "outputs": [
    {
     "data": {
      "text/plain": [
       "first_name          0\n",
       "last_name           0\n",
       "Email               0\n",
       "class_year          0\n",
       "genre_1            29\n",
       "genre_1_other     291\n",
       "genre_2             8\n",
       "genre_2_other     286\n",
       "genre_3            11\n",
       "genre_3_other     287\n",
       "genre_4            11\n",
       "genre_4_other     286\n",
       "genre_5            11\n",
       "genre_5_other     283\n",
       "num_genres         69\n",
       "songs_1             0\n",
       "songs_2             0\n",
       "songs_3             0\n",
       "songs_4             0\n",
       "songs_5             0\n",
       "artist_1            4\n",
       "artist_1_other    161\n",
       "artist_1_min      137\n",
       "artist_2           10\n",
       "artist_2_other    157\n",
       "artist_3           12\n",
       "artist_3_other    154\n",
       "artist_4           13\n",
       "artist_4_other    159\n",
       "artist_5           12\n",
       "artist_5_other    143\n",
       "min_total          58\n",
       "top_song_plays     89\n",
       "aura_1             50\n",
       "aura_2             52\n",
       "dtype: int64"
      ]
     },
     "execution_count": 17,
     "metadata": {},
     "output_type": "execute_result"
    }
   ],
   "source": [
    "df.isna().sum()"
   ]
  },
  {
   "cell_type": "code",
   "execution_count": 92,
   "metadata": {},
   "outputs": [
    {
     "data": {
      "text/html": [
       "<div>\n",
       "<style scoped>\n",
       "    .dataframe tbody tr th:only-of-type {\n",
       "        vertical-align: middle;\n",
       "    }\n",
       "\n",
       "    .dataframe tbody tr th {\n",
       "        vertical-align: top;\n",
       "    }\n",
       "\n",
       "    .dataframe thead th {\n",
       "        text-align: right;\n",
       "    }\n",
       "</style>\n",
       "<table border=\"1\" class=\"dataframe\">\n",
       "  <thead>\n",
       "    <tr style=\"text-align: right;\">\n",
       "      <th></th>\n",
       "      <th>first_name</th>\n",
       "      <th>last_name</th>\n",
       "      <th>Email</th>\n",
       "      <th>class_year</th>\n",
       "      <th>genre_1</th>\n",
       "      <th>genre_1_other</th>\n",
       "      <th>genre_2</th>\n",
       "      <th>genre_2_other</th>\n",
       "      <th>genre_3</th>\n",
       "      <th>genre_3_other</th>\n",
       "      <th>...</th>\n",
       "      <th>artist_3</th>\n",
       "      <th>artist_3_other</th>\n",
       "      <th>artist_4</th>\n",
       "      <th>artist_4_other</th>\n",
       "      <th>artist_5</th>\n",
       "      <th>artist_5_other</th>\n",
       "      <th>min_total</th>\n",
       "      <th>top_song_plays</th>\n",
       "      <th>aura_1</th>\n",
       "      <th>aura_2</th>\n",
       "    </tr>\n",
       "  </thead>\n",
       "  <tbody>\n",
       "    <tr>\n",
       "      <th>76</th>\n",
       "      <td>Amber</td>\n",
       "      <td>Li</td>\n",
       "      <td>amli@mit.edu</td>\n",
       "      <td>2022</td>\n",
       "      <td>K-pop</td>\n",
       "      <td>NaN</td>\n",
       "      <td>C-pop</td>\n",
       "      <td>NaN</td>\n",
       "      <td>Melodic dubstep</td>\n",
       "      <td>NaN</td>\n",
       "      <td>...</td>\n",
       "      <td>Other</td>\n",
       "      <td>Porter Robinson</td>\n",
       "      <td>Other</td>\n",
       "      <td>San Holo</td>\n",
       "      <td>Taylor Swift</td>\n",
       "      <td>NaN</td>\n",
       "      <td>16515</td>\n",
       "      <td>21</td>\n",
       "      <td>healing</td>\n",
       "      <td>focused</td>\n",
       "    </tr>\n",
       "  </tbody>\n",
       "</table>\n",
       "<p>1 rows × 35 columns</p>\n",
       "</div>"
      ],
      "text/plain": [
       "   first_name last_name         Email class_year genre_1 genre_1_other  \\\n",
       "76      Amber        Li  amli@mit.edu       2022   K-pop           NaN   \n",
       "\n",
       "   genre_2 genre_2_other          genre_3 genre_3_other  ... artist_3  \\\n",
       "76   C-pop           NaN  Melodic dubstep           NaN  ...    Other   \n",
       "\n",
       "     artist_3_other artist_4 artist_4_other      artist_5 artist_5_other  \\\n",
       "76  Porter Robinson    Other       San Holo  Taylor Swift            NaN   \n",
       "\n",
       "   min_total top_song_plays   aura_1   aura_2  \n",
       "76     16515             21  healing  focused  \n",
       "\n",
       "[1 rows x 35 columns]"
      ]
     },
     "execution_count": 92,
     "metadata": {},
     "output_type": "execute_result"
    }
   ],
   "source": [
    "complete[complete['artist_1'].isna()]"
   ]
  },
  {
   "cell_type": "code",
   "execution_count": 18,
   "metadata": {},
   "outputs": [
    {
     "data": {
      "text/plain": [
       "first_name          0\n",
       "last_name           0\n",
       "Email               0\n",
       "class_year          0\n",
       "genre_1             6\n",
       "genre_1_other       0\n",
       "genre_2            11\n",
       "genre_2_other       0\n",
       "genre_3            10\n",
       "genre_3_other       0\n",
       "genre_4            11\n",
       "genre_4_other       0\n",
       "genre_5            14\n",
       "genre_5_other       0\n",
       "num_genres          0\n",
       "songs_1             0\n",
       "songs_2             0\n",
       "songs_3             0\n",
       "songs_4             0\n",
       "songs_5             0\n",
       "artist_1          136\n",
       "artist_1_other      0\n",
       "artist_1_min        0\n",
       "artist_2          142\n",
       "artist_2_other      0\n",
       "artist_3          146\n",
       "artist_3_other      0\n",
       "artist_4          139\n",
       "artist_4_other      0\n",
       "artist_5          155\n",
       "artist_5_other      0\n",
       "min_total           0\n",
       "top_song_plays      0\n",
       "aura_1              0\n",
       "aura_2              0\n",
       "dtype: int64"
      ]
     },
     "execution_count": 18,
     "metadata": {},
     "output_type": "execute_result"
    }
   ],
   "source": [
    "(df == \"Other\").sum()"
   ]
  },
  {
   "cell_type": "code",
   "execution_count": 19,
   "metadata": {},
   "outputs": [],
   "source": [
    "for col in [\"genre\", \"artist\"]:\n",
    "    for i in range(1, 6):\n",
    "        df[col + \"_\" + str(i)][df[col + \"_\" + str(i)] == \"Other\"] = df[col + \"_\" + str(i) + \"_other\"]\n",
    "        df[col + \"_\" + str(i)][df[col + \"_\" + str(i)].isna()] = df[col + \"_\" + str(i) + \"_other\"]"
   ]
  },
  {
   "cell_type": "code",
   "execution_count": 20,
   "metadata": {},
   "outputs": [
    {
     "data": {
      "text/plain": [
       "first_name          0\n",
       "last_name           0\n",
       "Email               0\n",
       "class_year          0\n",
       "genre_1             5\n",
       "genre_1_other       0\n",
       "genre_2            10\n",
       "genre_2_other       0\n",
       "genre_3            10\n",
       "genre_3_other       0\n",
       "genre_4            11\n",
       "genre_4_other       0\n",
       "genre_5            13\n",
       "genre_5_other       0\n",
       "num_genres          0\n",
       "songs_1             0\n",
       "songs_2             0\n",
       "songs_3             0\n",
       "songs_4             0\n",
       "songs_5             0\n",
       "artist_1          128\n",
       "artist_1_other      0\n",
       "artist_1_min        0\n",
       "artist_2          135\n",
       "artist_2_other      0\n",
       "artist_3          140\n",
       "artist_3_other      0\n",
       "artist_4          132\n",
       "artist_4_other      0\n",
       "artist_5          146\n",
       "artist_5_other      0\n",
       "min_total           0\n",
       "top_song_plays      0\n",
       "aura_1              0\n",
       "aura_2              0\n",
       "dtype: int64"
      ]
     },
     "execution_count": 20,
     "metadata": {},
     "output_type": "execute_result"
    }
   ],
   "source": [
    "(complete == \"Other\").sum()"
   ]
  },
  {
   "cell_type": "code",
   "execution_count": 103,
   "metadata": {},
   "outputs": [
    {
     "data": {
      "text/plain": [
       "first_name          0\n",
       "last_name           0\n",
       "Email               0\n",
       "class_year          0\n",
       "genre_1             0\n",
       "genre_1_other     253\n",
       "genre_2             0\n",
       "genre_2_other     248\n",
       "genre_3             0\n",
       "genre_3_other     249\n",
       "genre_4             0\n",
       "genre_4_other     248\n",
       "genre_5             0\n",
       "genre_5_other     246\n",
       "num_genres         60\n",
       "songs_1             0\n",
       "songs_2             0\n",
       "songs_3             0\n",
       "songs_4             0\n",
       "songs_5             0\n",
       "artist_1            1\n",
       "artist_1_other    141\n",
       "artist_1_min      115\n",
       "artist_2            7\n",
       "artist_2_other    138\n",
       "artist_3            9\n",
       "artist_3_other    134\n",
       "artist_4            8\n",
       "artist_4_other    140\n",
       "artist_5            7\n",
       "artist_5_other    125\n",
       "min_total          47\n",
       "top_song_plays     77\n",
       "aura_1             43\n",
       "aura_2             45\n",
       "dtype: int64"
      ]
     },
     "execution_count": 103,
     "metadata": {},
     "output_type": "execute_result"
    }
   ],
   "source": [
    "complete.isna().sum()"
   ]
  },
  {
   "cell_type": "code",
   "execution_count": 21,
   "metadata": {},
   "outputs": [],
   "source": [
    "#genres to all lowercases\n",
    "for i in range(1, 6):\n",
    "    df[\"genre_\" + str(i)] = df[\"genre_\" + str(i)].str.lower()\n",
    "    df[\"artist_\" + str(i)] = df[\"artist_\" + str(i)].str.lower()"
   ]
  },
  {
   "cell_type": "code",
   "execution_count": 22,
   "metadata": {},
   "outputs": [],
   "source": [
    "df.to_csv(\"cleaned_responses.csv\")"
   ]
  },
  {
   "cell_type": "code",
   "execution_count": 5,
   "metadata": {},
   "outputs": [
    {
     "name": "stdout",
     "output_type": "stream",
     "text": [
      "['cmclcas@mit.edu', 'scigwe@mit.edu', 'ssalwan@mit.edu', 'agarces2@mit.edu', 'atmargi@mit.edu']\n",
      "email sent!\n"
     ]
    },
    {
     "data": {
      "text/plain": [
       "'\\n\\nSMTP Server\\toutgoing.mit.edu\\nPort\\t465 (SSL) or 587 (TLS)\\nUsername\\tKerberos username (without @mit.edu)\\nPassword\\tKerberos Password\\n'"
      ]
     },
     "execution_count": 5,
     "metadata": {},
     "output_type": "execute_result"
    }
   ],
   "source": [
    "import smtplib\n",
    "from email.mime.multipart import MIMEMultipart\n",
    "from email.mime.text import MIMEText\n",
    "\n",
    "username='ajarora'\n",
    "password='Irwtgs!!'\n",
    "mailServer = smtplib.SMTP('outgoing.mit.edu', 587)\n",
    "mailServer.ehlo()\n",
    "mailServer.starttls()\n",
    "mailServer.ehlo()\n",
    "mailServer.login(username, password)\n",
    "\n",
    "sender_mail = \"ajarora@mit.edu\"\n",
    "for cluster in range(1, 2):\n",
    "    df = pd.read_excel(open('output final.xlsx', 'rb'),\n",
    "              sheet_name='Sheet' + str(cluster))  \n",
    "    receivers_mail = list(df['Email'])\n",
    "    print(receivers_mail)\n",
    "    receivers_mail = ['ajarora@mit.edu']\n",
    "    to = \", \".join(receivers_mail)\n",
    "    msg = MIMEText(\"Hi everyone,\\nYou are in group \" + str(cluster) + \" for this year's music match! To find your group and new songs to listen to, check out your group\\'s sheet (so group 26 has a sheet named \\\"Group26\\\") here: https://docs.google.com/spreadsheets/d/1D9jjMo7VNeRguHT4pXxHMQQ5i_8GgXbN/edit?usp=sharing&ouid=108111349943323864126&rtpof=true&sd=true\"+ \"\\nGood luck with finals, and happy listening!\\nThe UA\")\n",
    "\n",
    "    msg['Subject'] = \"Test email part 2\"\n",
    "    msg['From'] = sender_mail\n",
    "    msg['To'] = to\n",
    "    #subject = \n",
    "    #link = \"https://docs.google.com/spreadsheets/d/1D9jjMo7VNeRguHT4pXxHMQQ5i_8GgXbN/edit?usp=sharing&ouid=108111349943323864126&rtpof=true&sd=true\"\n",
    "    #body = (\"Hi everyone,\\nYou are in group \" + str(cluster) + \" for this year's music match! To find your group and new songs to listen to, check out your group\\'s sheet (so group 26 has a sheet named \\\"Group26\\\") here: https://docs.google.com/spreadsheets/d/1D9jjMo7VNeRguHT4pXxHMQQ5i_8GgXbN/edit?usp=sharing&ouid=108111349943323864126&rtpof=true&sd=true\"+ \"\\nGood luck with finals, and happy listening!\\nThe UA\")\n",
    "    #message = \"\"\"\\\n",
    "    #From: %s\n",
    "    #To: %s\n",
    "    #Subject: %s\n",
    "    #\n",
    "    #%s\n",
    "    #\"\"\" % (sender_mail, to, subject, body)\n",
    "#message = \"\"\"Subject: Python testing mail#\n",
    "#\n",
    "#            This mail is sent using Python SMTP.\"\"\"\n",
    "    mailServer.sendmail(sender_mail, to, msg.as_string())\n",
    "    mailServer.close()\n",
    "\n",
    "print('email sent!')\n",
    "'''\n",
    "\n",
    "SMTP Server\toutgoing.mit.edu\n",
    "Port\t465 (SSL) or 587 (TLS)\n",
    "Username\tKerberos username (without @mit.edu)\n",
    "Password\tKerberos Password\n",
    "'''"
   ]
  },
  {
   "cell_type": "code",
   "execution_count": null,
   "metadata": {},
   "outputs": [],
   "source": []
  }
 ],
 "metadata": {
  "kernelspec": {
   "display_name": "Python 3",
   "language": "python",
   "name": "python3"
  },
  "language_info": {
   "codemirror_mode": {
    "name": "ipython",
    "version": 3
   },
   "file_extension": ".py",
   "mimetype": "text/x-python",
   "name": "python",
   "nbconvert_exporter": "python",
   "pygments_lexer": "ipython3",
   "version": "3.8.1"
  }
 },
 "nbformat": 4,
 "nbformat_minor": 5
}
