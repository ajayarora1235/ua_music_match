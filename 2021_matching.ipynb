{
 "cells": [
  {
   "cell_type": "code",
<<<<<<< HEAD:2021_response_cleaning.ipynb
   "execution_count": 43,
   "id": "c05bd30f",
=======
   "execution_count": 1,
   "id": "bb1e72d7",
>>>>>>> 2b269afd67b392c81d8decaad4a2979b36edbf82:2021_matching.ipynb
   "metadata": {},
   "outputs": [],
   "source": [
    "import pandas as pd"
   ]
  },
  {
   "cell_type": "code",
<<<<<<< HEAD:2021_response_cleaning.ipynb
   "execution_count": 84,
   "id": "7c114bbe",
=======
   "execution_count": 2,
   "id": "8a4b5896",
>>>>>>> 2b269afd67b392c81d8decaad4a2979b36edbf82:2021_matching.ipynb
   "metadata": {},
   "outputs": [
    {
     "name": "stdout",
     "output_type": "stream",
     "text": [
      "Index(['StartDate', 'EndDate', 'Status', 'IPAddress', 'Progress',\n",
      "       'Duration (in seconds)', 'Finished', 'RecordedDate', 'ResponseId',\n",
      "       'RecipientLastName', 'RecipientFirstName', 'RecipientEmail',\n",
      "       'ExternalReference', 'LocationLatitude', 'LocationLongitude',\n",
      "       'DistributionChannel', 'UserLanguage', 'first_name', 'last_name',\n",
      "       'Email', 'class_year', 'genre_1', 'genre_1_other', 'genre_2',\n",
      "       'genre_2_other', 'genre_3', 'genre_3_other', 'genre_4', 'genre_4_other',\n",
      "       'genre_5', 'genre_5_other', 'num_genres', 'songs_1', 'songs_2',\n",
      "       'songs_3', 'songs_4', 'songs_5', 'artist_1', 'artist_1_other',\n",
      "       'artist_1_min', 'artist_2', 'artist_2_other', 'artist_3',\n",
      "       'artist_3_other', 'artist_4', 'artist_4_other', 'artist_5',\n",
      "       'artist_5_other', 'min_total', 'top_song_plays', 'aura_1', 'aura_2'],\n",
      "      dtype='object')\n"
     ]
    }
   ],
   "source": [
    "df = pd.read_csv('2021_responses.csv')\n",
    "print(df.columns)"
   ]
  },
  {
   "cell_type": "code",
<<<<<<< HEAD:2021_response_cleaning.ipynb
   "execution_count": 85,
   "id": "5b3d77b7",
=======
   "execution_count": 3,
   "id": "d8f16600",
>>>>>>> 2b269afd67b392c81d8decaad4a2979b36edbf82:2021_matching.ipynb
   "metadata": {},
   "outputs": [],
   "source": [
    "df = df[df.columns[17:]]\n",
    "df = df.iloc[3:]"
   ]
  },
  {
   "cell_type": "code",
<<<<<<< HEAD:2021_response_cleaning.ipynb
   "execution_count": 86,
   "id": "dbdd5405",
=======
   "execution_count": 4,
   "id": "c3140ba2",
>>>>>>> 2b269afd67b392c81d8decaad4a2979b36edbf82:2021_matching.ipynb
   "metadata": {},
   "outputs": [],
   "source": [
    "incomplete = df[df[\"genre_1\"].isna() | df[\"genre_2\"].isna() | df[\"genre_3\"].isna() | df[\"genre_4\"].isna() | df[\"genre_5\"].isna() | (df[\"artist_2\"].isna() & df[\"artist_3\"].isna() & df[\"artist_4\"].isna() & df[\"artist_5\"].isna())]\n",
    "complete = df[~df[\"genre_1\"].isna() & ~df[\"genre_2\"].isna() & ~df[\"genre_3\"].isna() & ~df[\"genre_4\"].isna() & ~df[\"genre_5\"].isna() & (~df[\"artist_2\"].isna() | ~df[\"artist_3\"].isna() | ~df[\"artist_4\"].isna() | ~df[\"artist_5\"].isna())]\n"
   ]
  },
  {
   "cell_type": "code",
<<<<<<< HEAD:2021_response_cleaning.ipynb
   "execution_count": 87,
   "id": "45c96b90",
=======
   "execution_count": 5,
   "id": "6dae9d57",
>>>>>>> 2b269afd67b392c81d8decaad4a2979b36edbf82:2021_matching.ipynb
   "metadata": {},
   "outputs": [],
   "source": [
    "complete = complete[complete.first_name != \"a\"]"
   ]
  },
  {
   "cell_type": "code",
<<<<<<< HEAD:2021_response_cleaning.ipynb
   "execution_count": 88,
   "id": "1c2b31bf",
=======
   "execution_count": 6,
   "id": "aac667bb",
>>>>>>> 2b269afd67b392c81d8decaad4a2979b36edbf82:2021_matching.ipynb
   "metadata": {},
   "outputs": [
    {
     "name": "stdout",
     "output_type": "stream",
     "text": [
      "39\n"
     ]
    }
   ],
   "source": [
    "print(len(incomplete))"
   ]
  },
  {
   "cell_type": "code",
<<<<<<< HEAD:2021_response_cleaning.ipynb
   "execution_count": 89,
   "id": "fd58c20d",
=======
   "execution_count": 7,
   "id": "6ca13e4b",
>>>>>>> 2b269afd67b392c81d8decaad4a2979b36edbf82:2021_matching.ipynb
   "metadata": {},
   "outputs": [
    {
     "name": "stdout",
     "output_type": "stream",
     "text": [
      "258\n"
     ]
    }
   ],
   "source": [
    "print(len(complete))"
   ]
  },
  {
   "cell_type": "code",
<<<<<<< HEAD:2021_response_cleaning.ipynb
   "execution_count": 90,
   "id": "af683f68",
=======
   "execution_count": 8,
   "id": "f9e71d4d",
>>>>>>> 2b269afd67b392c81d8decaad4a2979b36edbf82:2021_matching.ipynb
   "metadata": {},
   "outputs": [
    {
     "data": {
      "text/plain": [
       "first_name          0\n",
       "last_name           0\n",
       "Email               0\n",
       "class_year          0\n",
       "genre_1             0\n",
       "genre_1_other     253\n",
       "genre_2             0\n",
       "genre_2_other     248\n",
       "genre_3             0\n",
       "genre_3_other     249\n",
       "genre_4             0\n",
       "genre_4_other     248\n",
       "genre_5             0\n",
       "genre_5_other     246\n",
       "num_genres         60\n",
       "songs_1             0\n",
       "songs_2             0\n",
       "songs_3             0\n",
       "songs_4             0\n",
       "songs_5             0\n",
       "artist_1            1\n",
       "artist_1_other    141\n",
       "artist_1_min      115\n",
       "artist_2            5\n",
       "artist_2_other    138\n",
       "artist_3            6\n",
       "artist_3_other    134\n",
       "artist_4            7\n",
       "artist_4_other    140\n",
       "artist_5            6\n",
       "artist_5_other    125\n",
       "min_total          47\n",
       "top_song_plays     77\n",
       "aura_1             43\n",
       "aura_2             45\n",
       "dtype: int64"
      ]
     },
     "execution_count": 8,
     "metadata": {},
     "output_type": "execute_result"
    }
   ],
   "source": [
    "complete.isna().sum()"
   ]
  },
  {
   "cell_type": "code",
   "execution_count": 92,
   "id": "a26b144b",
   "metadata": {},
   "outputs": [
    {
     "data": {
      "text/html": [
       "<div>\n",
       "<style scoped>\n",
       "    .dataframe tbody tr th:only-of-type {\n",
       "        vertical-align: middle;\n",
       "    }\n",
       "\n",
       "    .dataframe tbody tr th {\n",
       "        vertical-align: top;\n",
       "    }\n",
       "\n",
       "    .dataframe thead th {\n",
       "        text-align: right;\n",
       "    }\n",
       "</style>\n",
       "<table border=\"1\" class=\"dataframe\">\n",
       "  <thead>\n",
       "    <tr style=\"text-align: right;\">\n",
       "      <th></th>\n",
       "      <th>first_name</th>\n",
       "      <th>last_name</th>\n",
       "      <th>Email</th>\n",
       "      <th>class_year</th>\n",
       "      <th>genre_1</th>\n",
       "      <th>genre_1_other</th>\n",
       "      <th>genre_2</th>\n",
       "      <th>genre_2_other</th>\n",
       "      <th>genre_3</th>\n",
       "      <th>genre_3_other</th>\n",
       "      <th>...</th>\n",
       "      <th>artist_3</th>\n",
       "      <th>artist_3_other</th>\n",
       "      <th>artist_4</th>\n",
       "      <th>artist_4_other</th>\n",
       "      <th>artist_5</th>\n",
       "      <th>artist_5_other</th>\n",
       "      <th>min_total</th>\n",
       "      <th>top_song_plays</th>\n",
       "      <th>aura_1</th>\n",
       "      <th>aura_2</th>\n",
       "    </tr>\n",
       "  </thead>\n",
       "  <tbody>\n",
       "    <tr>\n",
       "      <th>76</th>\n",
       "      <td>Amber</td>\n",
       "      <td>Li</td>\n",
       "      <td>amli@mit.edu</td>\n",
       "      <td>2022</td>\n",
       "      <td>K-pop</td>\n",
       "      <td>NaN</td>\n",
       "      <td>C-pop</td>\n",
       "      <td>NaN</td>\n",
       "      <td>Melodic dubstep</td>\n",
       "      <td>NaN</td>\n",
       "      <td>...</td>\n",
       "      <td>Other</td>\n",
       "      <td>Porter Robinson</td>\n",
       "      <td>Other</td>\n",
       "      <td>San Holo</td>\n",
       "      <td>Taylor Swift</td>\n",
       "      <td>NaN</td>\n",
       "      <td>16515</td>\n",
       "      <td>21</td>\n",
       "      <td>healing</td>\n",
       "      <td>focused</td>\n",
       "    </tr>\n",
       "  </tbody>\n",
       "</table>\n",
       "<p>1 rows × 35 columns</p>\n",
       "</div>"
      ],
      "text/plain": [
       "   first_name last_name         Email class_year genre_1 genre_1_other  \\\n",
       "76      Amber        Li  amli@mit.edu       2022   K-pop           NaN   \n",
       "\n",
       "   genre_2 genre_2_other          genre_3 genre_3_other  ... artist_3  \\\n",
       "76   C-pop           NaN  Melodic dubstep           NaN  ...    Other   \n",
       "\n",
       "     artist_3_other artist_4 artist_4_other      artist_5 artist_5_other  \\\n",
       "76  Porter Robinson    Other       San Holo  Taylor Swift            NaN   \n",
       "\n",
       "   min_total top_song_plays   aura_1   aura_2  \n",
       "76     16515             21  healing  focused  \n",
       "\n",
       "[1 rows x 35 columns]"
      ]
     },
     "execution_count": 92,
     "metadata": {},
     "output_type": "execute_result"
    }
   ],
   "source": [
    "complete[complete['artist_1'].isna()]"
   ]
  },
  {
   "cell_type": "code",
   "execution_count": 93,
   "id": "ab88dfcf",
   "metadata": {},
   "outputs": [
    {
     "data": {
      "text/plain": [
       "first_name          0\n",
       "last_name           0\n",
       "Email               0\n",
       "class_year          0\n",
       "genre_1             5\n",
       "genre_1_other       0\n",
       "genre_2            10\n",
       "genre_2_other       0\n",
       "genre_3             9\n",
       "genre_3_other       0\n",
       "genre_4            10\n",
       "genre_4_other       0\n",
       "genre_5            12\n",
       "genre_5_other       0\n",
       "num_genres          0\n",
       "songs_1             0\n",
       "songs_2             0\n",
       "songs_3             0\n",
       "songs_4             0\n",
       "songs_5             0\n",
       "artist_1          117\n",
       "artist_1_other      0\n",
       "artist_1_min        0\n",
       "artist_2          122\n",
       "artist_2_other      0\n",
       "artist_3          127\n",
       "artist_3_other      0\n",
       "artist_4          119\n",
       "artist_4_other      0\n",
       "artist_5          134\n",
       "artist_5_other      0\n",
       "min_total           0\n",
       "top_song_plays      0\n",
       "aura_1              0\n",
       "aura_2              0\n",
       "dtype: int64"
      ]
     },
     "execution_count": 93,
     "metadata": {},
     "output_type": "execute_result"
    }
   ],
   "source": [
    "(complete == \"Other\").sum()"
   ]
  },
  {
   "cell_type": "code",
<<<<<<< HEAD:2021_response_cleaning.ipynb
   "execution_count": 101,
   "id": "d498248a",
=======
   "execution_count": 9,
   "id": "c84b8569",
>>>>>>> 2b269afd67b392c81d8decaad4a2979b36edbf82:2021_matching.ipynb
   "metadata": {},
   "outputs": [],
   "source": [
    "for col in [\"genre\", \"artist\"]:\n",
    "    for i in range(1, 6):\n",
    "        complete[col + \"_\" + str(i)][complete[col + \"_\" + str(i)] == \"Other\"] = complete[col + \"_\" + str(i) + \"_other\"]\n",
    "        complete[col + \"_\" + str(i)][complete[col + \"_\" + str(i)].isna()] = complete[col + \"_\" + str(i) + \"_other\"]"
   ]
  },
  {
   "cell_type": "code",
<<<<<<< HEAD:2021_response_cleaning.ipynb
   "execution_count": 102,
   "id": "0db8310c",
=======
   "execution_count": 10,
   "id": "6353fc48",
>>>>>>> 2b269afd67b392c81d8decaad4a2979b36edbf82:2021_matching.ipynb
   "metadata": {},
   "outputs": [
    {
     "data": {
      "text/plain": [
       "first_name        0\n",
       "last_name         0\n",
       "Email             0\n",
       "class_year        0\n",
       "genre_1           0\n",
       "genre_1_other     0\n",
       "genre_2           0\n",
       "genre_2_other     0\n",
       "genre_3           0\n",
       "genre_3_other     0\n",
       "genre_4           0\n",
       "genre_4_other     0\n",
       "genre_5           0\n",
       "genre_5_other     0\n",
       "num_genres        0\n",
       "songs_1           0\n",
       "songs_2           0\n",
       "songs_3           0\n",
       "songs_4           0\n",
       "songs_5           0\n",
       "artist_1          0\n",
       "artist_1_other    0\n",
       "artist_1_min      0\n",
       "artist_2          0\n",
       "artist_2_other    0\n",
       "artist_3          0\n",
       "artist_3_other    0\n",
       "artist_4          0\n",
       "artist_4_other    0\n",
       "artist_5          0\n",
       "artist_5_other    0\n",
       "min_total         0\n",
       "top_song_plays    0\n",
       "aura_1            0\n",
       "aura_2            0\n",
       "dtype: int64"
      ]
     },
     "execution_count": 10,
     "metadata": {},
     "output_type": "execute_result"
    }
   ],
   "source": [
    "(complete == \"Other\").sum()"
   ]
  },
  {
   "cell_type": "code",
<<<<<<< HEAD:2021_response_cleaning.ipynb
   "execution_count": 103,
   "id": "595475de",
=======
   "execution_count": 11,
   "id": "60c2b97b",
>>>>>>> 2b269afd67b392c81d8decaad4a2979b36edbf82:2021_matching.ipynb
   "metadata": {},
   "outputs": [
    {
     "data": {
      "text/plain": [
       "first_name          0\n",
       "last_name           0\n",
       "Email               0\n",
       "class_year          0\n",
       "genre_1             0\n",
       "genre_1_other     253\n",
       "genre_2             0\n",
       "genre_2_other     248\n",
       "genre_3             0\n",
       "genre_3_other     249\n",
       "genre_4             0\n",
       "genre_4_other     248\n",
       "genre_5             0\n",
       "genre_5_other     246\n",
       "num_genres         60\n",
       "songs_1             0\n",
       "songs_2             0\n",
       "songs_3             0\n",
       "songs_4             0\n",
       "songs_5             0\n",
       "artist_1            1\n",
       "artist_1_other    141\n",
       "artist_1_min      115\n",
       "artist_2            7\n",
       "artist_2_other    138\n",
       "artist_3            9\n",
       "artist_3_other    134\n",
       "artist_4            8\n",
       "artist_4_other    140\n",
       "artist_5            7\n",
       "artist_5_other    125\n",
       "min_total          47\n",
       "top_song_plays     77\n",
       "aura_1             43\n",
       "aura_2             45\n",
       "dtype: int64"
      ]
     },
     "execution_count": 11,
     "metadata": {},
     "output_type": "execute_result"
    }
   ],
   "source": [
    "complete.isna().sum()"
   ]
  },
  {
   "cell_type": "code",
<<<<<<< HEAD:2021_response_cleaning.ipynb
   "execution_count": 104,
   "id": "fb43a82a",
=======
   "execution_count": 12,
   "id": "59213414",
>>>>>>> 2b269afd67b392c81d8decaad4a2979b36edbf82:2021_matching.ipynb
   "metadata": {},
   "outputs": [],
   "source": [
    "#genres to all lowercases\n",
    "for i in range(1, 6):\n",
    "    complete[\"genre_\" + str(i)] = complete[\"genre_\" + str(i)].str.lower()"
   ]
  },
  {
   "cell_type": "code",
<<<<<<< HEAD:2021_response_cleaning.ipynb
   "execution_count": 105,
   "id": "a2a17fda",
=======
   "execution_count": 13,
   "id": "eb2e1c5b",
>>>>>>> 2b269afd67b392c81d8decaad4a2979b36edbf82:2021_matching.ipynb
   "metadata": {},
   "outputs": [],
   "source": [
    "complete.to_csv(\"cleaned_responses.csv\")"
   ]
  },
  {
   "cell_type": "code",
<<<<<<< HEAD:2021_response_cleaning.ipynb
   "execution_count": null,
   "id": "ce38bd6e",
   "metadata": {},
   "outputs": [],
   "source": [
    "username='ajarora'\n",
    "password='Irwtgs!!'\n",
    "mailServer = smtplib.SMTP('outgoing.mit.edu', 587)\n",
    "mailServer.ehlo()\n",
    "mailServer.starttls()\n",
    "mailServer.ehlo()\n",
    "mailServer.login(username, password)\n",
    "'''\n",
    "SMTP Server\toutgoing.mit.edu\n",
    "Port\t465 (SSL) or 587 (TLS)\n",
    "Username\tKerberos username (without @mit.edu)\n",
    "Password\tKerberos Password\n",
    "'''"
   ]
=======
   "execution_count": 14,
   "id": "0753dffa",
   "metadata": {},
   "outputs": [],
   "source": [
    "clean_df = pd.read_csv(\"cleaned_responses.csv\")"
   ]
  },
  {
   "cell_type": "code",
   "execution_count": 23,
   "id": "b1bbcee9",
   "metadata": {},
   "outputs": [
    {
     "name": "stdout",
     "output_type": "stream",
     "text": [
      "{'broadway': 6, 'pop rap': 47, 'dance pop': 157, 'singer-songwriter': 1, 'lo-fi': 2, 'traprun': 1, 'alternative r&b': 27, 'pop latino': 1, 'underground hip hop': 5, 'korean r&b': 6, 'underground hip hop ': 2, 'anime': 8, 'indie pop': 84, 'indie rock': 34, 'new wave ': 1, 'alternative rock': 9, 'indie garage rock': 6, 'art pop': 8, 'c-pop': 13, 'k-pop': 49, 'classic rock': 35, 'emo': 12, 'afrobeat': 5, 'video game music': 11, 'pop': 6, 'detroit rap': 1, 'rabindra sangeet': 1, 'brazilian popular music (mpb)': 1, 'neo-psychedelic': 2, 'metalcore': 3, 'electropop': 32, 'j-pop': 14, 'kanye west': 1, 'soundtrack': 14, 'weirdcore': 5, 'reggaeton': 22, 'glitchcore': 2, 'bubblegrunge': 1, 'post rock': 1, 'classical piano': 2, 'indiepop': 1, 'bass house': 1, 'lo-fi beats': 14, 'worship': 4, 'dream pop': 7, 'atl hip hop': 4, 'indie': 1, 'hip hop': 9, 'shoegaze': 5, 'house': 3, 'kpop': 1, 'punk': 4, 'hip-hop/rap': 1, 'ambient': 5, 'doom metal': 1, 'melodic rap': 18, 'christian pop': 2, 'art rock': 8, 'dream smp': 3, 'post-teen pop': 3, 'rap': 11, 'future bass': 3, 'afrobeats': 3, 'contemporary country': 9, 'pop dance': 1, 'chill r&b': 18, 'show tunes': 11, 'r&b': 16, 'psychedelic rock': 2, 'trap': 3, 'latin alternative': 2, 'new wave': 4, 'pop rock': 22, 'rock': 6, 'pop punk': 8, 'desi pop': 6, 'alternative hip hop': 12, 'mandopop': 3, 'uk hip hop': 1, 'vaporwave': 2, 'modern rock': 30, 'neo soul': 15, 'corrido': 1, 'edm': 2, 'emo rap': 3, 'modern alternative rock': 7, 'deep house': 1, 'undergroup hip hop': 1, 'eurovision': 1, 'modern bollywood': 6, 'bedroom pop': 17, 'indie poptimism': 7, 'korean indie rock': 1, 'uk alternative pop': 1, 'anti foll': 1, 'neo mellow': 4, 'baroque ': 1, 'glee club': 1, 'hip-hop': 2, 'dance pop ': 1, 'pop rwp': 1, 'the weeknd': 1, 'swing': 1, 'korean ost': 3, 'trova': 1, 'pop-rap': 1, 'post punk': 1, 'indie folk': 10, 'classical': 4, 'nightcore': 2, 'grime': 1, 'post-punk': 2, 'death metal': 1, 'r&b/soul': 1, \"video game music [this shouldn't have been this high up :(( ]\": 1, 'small room': 1, 'k-rap': 3, 'chillhop': 4, 'bossa nova': 1, 'compositional ambient': 1, 'sludge metal': 1, 'filmi': 1, 'country road': 3, 'latin pop': 6, 'chicago rap': 10, 'banda': 1, 'jazz rap': 1, 'k-pop boy group': 2, 'sad lo-fi': 1, 'metropopolis': 5, 'rock en espanol': 1, 'pop edm': 1, 'vocaloid': 1, 'electronica': 4, 'epicore': 1, 'permanent wave': 2, 'italian pop': 2, 'dfw rap': 1, 'trap queen': 3, 'melodic dubstep': 5, 'salsa': 2, 'indiecoustica': 3, 'french pop': 3, 'pop urbaine': 1, 'otacore': 3, 'japanese math rock': 1, 'alternative': 3, 'opera ': 1, 'sufi': 2, 'a cappella': 2, 'contemporary r&b': 1, 'drill': 1, 'east coast hip jop': 1, 'math rock': 1, 'mac miller': 1, 'lofi beats': 1, 'disco': 2, 'trap latino': 1, 'pop-urbain': 1, 'modernrock': 1, 'chill hop': 2, 'alt hip hop': 1, 'futurebass': 1, 'grunge': 2, 'afro': 1, 'abstract hip hop': 2, 'soft rock': 3, 'progressive house': 3, 'sad rap': 4, 'slowed and reverb': 1, 'uk pop': 10, 'boy band': 3, 'detroit hip hop': 1, 'pop soul': 2, 'bachata': 1, 'j-poprock': 1, 'kollywood': 1, 'brooklyn drill': 1, 'country rock': 1, 'metal': 1, 'urban contemporary': 1, 'synthpop': 1, 'vocal jazz': 1, 'french hip hop': 1, 'vapor soul': 2, 'german hip hop': 2, 'hollywood': 1, 'bolero': 2, 'latin': 1, 'social media pop': 2, 'progressive rock': 2, 'trance': 1, 'indonesian pop': 1, 'lo-fi chill': 2, 'beatlesque': 1, 'hyperpop': 5, 'alternativa latina': 1, 'conscious hip hop': 2, 'meme rap': 1, 'comedy': 1, 'indie soul': 3, 'hopebeat': 1, 'city pop': 1, 'metropolisis': 1, 'japanese soundtrack': 1, 'neo classical': 1, 'reggae': 1, 'classical performance': 1, 'tollywood': 1, 'nu disco': 1, 'contemporary country ': 1, 'tyler, the creator': 1, 'folk punk': 1, 'pop melodique': 1, 'early romantic era': 1, 'celtic': 1, 'classic': 1, 'country': 1, 'bebop': 1, 'noise rock': 2, 'showtunes': 1, 'christian indie': 1, 'christian hip hop': 2, 'synthwave': 2, 'trap soul': 1, 'latin rock': 2, 'aesthetic rap': 1, 'outlaw country': 1, 'new jersey indie': 1, 'funk metal': 1, 'modern country rock': 2, 'atl trap': 1, 'progressive metal': 1, 'canadian pop': 4, 'russian post-punk': 1, 'mexican pop': 1, 'christian alternative rock': 1, 'cpop (chinese pop)': 1, 'german pop': 2, 'mexican hip hop': 1, 'vapor twitch': 1, 'alternative metal': 2, 'late romantic era': 1, 'russian pop': 2, 'modern indie pop': 1, 'chicago wrap ': 1, 'modern rock ': 1, 'escape room': 1, 'korean instrumental': 1, 'tropical house': 2, 'bedroom soul': 1, 'afropop': 1, 'amapiano': 1, 'jazz': 1, 'russian folk': 1, 'garage rock': 1, 'post teen pop': 1, 'lofi': 1, 'southern hip-hop': 1, 'video games': 1, 'florida rap': 1, 'soul': 2, 'indie electropop': 1, 'travis scott': 1, 'indie poptism': 1, 'steampunk': 1, 'hip-hop french': 1, 'expiremential': 1, 'colombian pop': 1, 'string quartet': 1, 'drama osts': 1, 'desert blues': 1, 'dutch pop': 1, '.': 1, 'electric': 1, 'canadian hip hop': 2, 'folk rock': 2, 'gospel': 1, 'brass band': 1, 'stomp and holler': 2, 'spanish pop': 1, 'blues rock': 2, 'folk': 1, 'west end': 1, 'gangster rap': 1, 'japanese psychedelic': 1, 'pop r&b': 1, 'acoustic pop': 1, 'dark trap': 1, 'eurodance': 1, 'afrofuturism': 1, 'k-pop girl group': 1, 'anime score': 1, 'motown': 1}\n",
      "164 lone genres out of 294\n"
     ]
    }
   ],
   "source": [
    "genre_counts = {}\n",
    "genre_cols = ['genre_1', 'genre_2', 'genre_3', 'genre_4', 'genre_5',]\n",
    "for col in genre_cols:\n",
    "    for row in clean_df[col]:\n",
    "        genre_counts[row] = genre_counts.get(row, 0) + 1\n",
    "\n",
    "print(genre_counts)\n",
    "\n",
    "\n",
    "lone_genres = set()\n",
    "for key, value in genre_counts.items():\n",
    "    if value == 1:\n",
    "        lone_genres.add(key)\n",
    "        \n",
    "print(str(len(lone_genres)) + \" lone genres out of \" + str(len(genre_counts)))\n"
   ]
  },
  {
   "cell_type": "code",
   "execution_count": 34,
   "id": "c8d96841",
   "metadata": {},
   "outputs": [
    {
     "name": "stdout",
     "output_type": "stream",
     "text": [
      "scherea@mit.edugenres: kanye west ,the weeknd ,mac miller ,tyler, the creator ,travis scott\n",
      "favoured@mit.edugenres: worship ,christian pop ,indiecoustica ,christian hip hop ,gospel\n",
      "mimisuar@mit.edugenres: psychedelic rock ,sludge metal ,bachata ,salsa ,japanese psychedelic\n",
      "j_luera@mit.edugenres: corrido ,rock en espanol ,bolero ,mexican hip hop ,dark trap\n"
     ]
    }
   ],
   "source": [
    "threshold = 5\n",
    "less_than = 0   # holds how many people have less the the threshold amount in all of their genres\n",
    "num_rows = 0\n",
    "\n",
    "for index, row in clean_df.iterrows():\n",
    "    num_rows += 1\n",
    "    if sum([genre_counts[row[genre_col]] < threshold for genre_col in genre_cols]) == 5:\n",
    "        less_than += 1\n",
    "        print(row['Email'] + \"genres: \" + ' ,'.join([row[genre_col] for genre_col in genre_cols]))\n",
    "        \n",
    "# print(less_than)\n",
    "# print(num_rows)"
   ]
  },
  {
   "cell_type": "code",
   "execution_count": null,
   "id": "74e8bd92",
   "metadata": {},
   "outputs": [],
   "source": []
>>>>>>> 2b269afd67b392c81d8decaad4a2979b36edbf82:2021_matching.ipynb
  }
 ],
 "metadata": {
  "kernelspec": {
   "display_name": "Python 3 (ipykernel)",
   "language": "python",
   "name": "python3"
  },
  "language_info": {
   "codemirror_mode": {
    "name": "ipython",
    "version": 3
   },
   "file_extension": ".py",
   "mimetype": "text/x-python",
   "name": "python",
   "nbconvert_exporter": "python",
   "pygments_lexer": "ipython3",
   "version": "3.9.1"
  }
 },
 "nbformat": 4,
 "nbformat_minor": 5
}
