{
 "cells": [
  {
   "cell_type": "code",
   "execution_count": 16,
   "id": "4e7cecd3",
   "metadata": {},
   "outputs": [],
   "source": [
    "import pandas as pd"
   ]
  },
  {
   "cell_type": "code",
   "execution_count": 17,
   "id": "d455559f",
   "metadata": {},
   "outputs": [
    {
     "name": "stdout",
     "output_type": "stream",
     "text": [
      "Index(['StartDate', 'EndDate', 'Status', 'IPAddress', 'Progress',\n",
      "       'Duration (in seconds)', 'Finished', 'RecordedDate', 'ResponseId',\n",
      "       'RecipientLastName', 'RecipientFirstName', 'RecipientEmail',\n",
      "       'ExternalReference', 'LocationLatitude', 'LocationLongitude',\n",
      "       'DistributionChannel', 'UserLanguage', 'Q50_1', 'Q50_2', 'Q50_3', 'Q51',\n",
      "       'Q19', 'Q64', 'Q66', 'Q65', 'Q67', 'Q68', 'Q69', 'Q70', 'Q71', 'Q72',\n",
      "       'Q18', 'Q11', 'Q12', 'Q13', 'Q14', 'Q15', 'Q25', 'Q52', 'Q30', 'Q56',\n",
      "       'Q57', 'Q58', 'Q59', 'Q60', 'Q61', 'Q62', 'Q63', 'Q8', 'Q9', 'Q10',\n",
      "       'Q20', 'Q21', 'Q22', 'Q23', 'Q16', 'Q17'],\n",
      "      dtype='object')\n"
     ]
    }
   ],
   "source": [
    "df = pd.read_csv('2021_responses.csv')\n",
    "print(df.columns)"
   ]
  },
  {
   "cell_type": "code",
   "execution_count": null,
   "id": "aca0a0d3",
   "metadata": {},
   "outputs": [],
   "source": [
    "df.col1[df.col1 == 0] = df.col2"
   ]
  }
 ],
 "metadata": {
  "kernelspec": {
   "display_name": "Python 3 (ipykernel)",
   "language": "python",
   "name": "python3"
  },
  "language_info": {
   "codemirror_mode": {
    "name": "ipython",
    "version": 3
   },
   "file_extension": ".py",
   "mimetype": "text/x-python",
   "name": "python",
   "nbconvert_exporter": "python",
   "pygments_lexer": "ipython3",
   "version": "3.9.7"
  }
 },
 "nbformat": 4,
 "nbformat_minor": 5
}
